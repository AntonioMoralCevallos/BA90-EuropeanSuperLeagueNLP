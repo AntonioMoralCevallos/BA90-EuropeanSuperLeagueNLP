{
  "nbformat": 4,
  "nbformat_minor": 0,
  "metadata": {
    "colab": {
      "name": "SentimentAnalysis.ipynb",
      "provenance": []
    },
    "kernelspec": {
      "name": "python3",
      "display_name": "Python 3"
    },
    "language_info": {
      "name": "python"
    }
  },
  "cells": [
    {
      "cell_type": "markdown",
      "metadata": {
        "id": "e-qSXei_zxCI"
      },
      "source": [
        "# Sentiment Analysis"
      ]
    },
    {
      "cell_type": "code",
      "metadata": {
        "id": "Pq3Ux8DbekYY"
      },
      "source": [
        "#imports\n",
        "import numpy as np\n",
        "import pandas as pd\n",
        "import matplotlib.pyplot as plt\n",
        "import seaborn as sns\n",
        "#spacy imports\n",
        "!pip install spacytextblob\n",
        "import spacy  \n",
        "from spacytextblob.spacytextblob import SpacyTextBlob\n",
        "spacy.cli.download(\"en_core_web_lg\")\n",
        "nlp = spacy.load('en_core_web_lg')\n"
      ],
      "execution_count": null,
      "outputs": []
    },
    {
      "cell_type": "markdown",
      "metadata": {
        "id": "asEP7mw2lGag"
      },
      "source": [
        "Polarity is a float within the range [-1.0, 1.0], subjectivity is a float within the range [0.0, 1.0] where 0.0 is very objective and 1.0 is very subjective, and assessments is a list of polarity and subjectivity scores for the assessed tokens."
      ]
    },
    {
      "cell_type": "code",
      "metadata": {
        "colab": {
          "base_uri": "https://localhost:8080/"
        },
        "id": "tNdqb3NMgh2o",
        "outputId": "54530001-2b24-4e2a-c42a-93976c5c6deb"
      },
      "source": [
        "nlp.add_pipe('spacytextblob')"
      ],
      "execution_count": 2,
      "outputs": [
        {
          "output_type": "execute_result",
          "data": {
            "text/plain": [
              "<spacytextblob.spacytextblob.SpacyTextBlob at 0x7f5d051e6610>"
            ]
          },
          "metadata": {
            "tags": []
          },
          "execution_count": 2
        }
      ]
    },
    {
      "cell_type": "code",
      "metadata": {
        "id": "6UfIxpeArCIc"
      },
      "source": [
        "data = pd.read_csv('phrase_data.csv')"
      ],
      "execution_count": 14,
      "outputs": []
    },
    {
      "cell_type": "code",
      "metadata": {
        "id": "vCGNZnl9rJAQ"
      },
      "source": [
        "data.drop('Unnamed: 0',axis=1,inplace=True)"
      ],
      "execution_count": 15,
      "outputs": []
    },
    {
      "cell_type": "code",
      "metadata": {
        "id": "2y38aYOorVFR"
      },
      "source": [
        "text = data.tweet"
      ],
      "execution_count": 16,
      "outputs": []
    },
    {
      "cell_type": "code",
      "metadata": {
        "id": "ytA2o58yrbNB"
      },
      "source": [
        "sentences = []\n",
        "\n",
        "for i in text:\n",
        "  i = i.replace('\\n','')\n",
        "  i = i.replace('RT','')\n",
        "  sentences.append(i)\n",
        "\n"
      ],
      "execution_count": 26,
      "outputs": []
    },
    {
      "cell_type": "code",
      "metadata": {
        "id": "MMjkE0IAxcfu"
      },
      "source": [
        "polarity = []\n",
        "assessments = []\n",
        "subjectivity = []\n",
        "for t in sentences:\n",
        "  doc = nlp(t)\n",
        "  polarity.append(doc._.polarity)\n",
        "  assessments.append(doc._.assessments)\n",
        "  subjectivity.append(doc._.subjectivity)\n"
      ],
      "execution_count": 28,
      "outputs": []
    },
    {
      "cell_type": "code",
      "metadata": {
        "id": "Qw1hAFW5yOUh"
      },
      "source": [
        "sentiment_analysis = pd.DataFrame({'tweet_text':sentences,'polarity':polarity,'subjectivity':subjectivity,'assessments':assessments})"
      ],
      "execution_count": 29,
      "outputs": []
    },
    {
      "cell_type": "code",
      "metadata": {
        "colab": {
          "base_uri": "https://localhost:8080/"
        },
        "id": "7d07rWztyitm",
        "outputId": "fb829486-7ade-4b5b-f3de-b1be479db9e7"
      },
      "source": [
        "sentiment_analysis[0:1].tweet_text.values"
      ],
      "execution_count": 40,
      "outputs": [
        {
          "output_type": "execute_result",
          "data": {
            "text/plain": [
              "array([' @YanitedAlways: 100 days today since the European Super League collapsed. You’ll never beat us football fans.'],\n",
              "      dtype=object)"
            ]
          },
          "metadata": {
            "tags": []
          },
          "execution_count": 40
        }
      ]
    },
    {
      "cell_type": "code",
      "metadata": {
        "colab": {
          "base_uri": "https://localhost:8080/",
          "height": 35
        },
        "id": "vF5ZDMMczAuM",
        "outputId": "059be4db-79b9-4d68-9288-5c69e41b06a8"
      },
      "source": [
        "sentiment_analysis.loc[sentiment_analysis.polarity == sentiment_analysis.polarity.max()][0:1].tweet_text.values[0]"
      ],
      "execution_count": 48,
      "outputs": [
        {
          "output_type": "execute_result",
          "data": {
            "application/vnd.google.colaboratory.intrinsic+json": {
              "type": "string"
            },
            "text/plain": [
              "' @JaacksHappyHour: Upon hearing news that the Sidemen are doing a charity match... we decided to put together a Happy Hour FC Squad based…'"
            ]
          },
          "metadata": {
            "tags": []
          },
          "execution_count": 48
        }
      ]
    },
    {
      "cell_type": "code",
      "metadata": {
        "id": "XqNwHsGlztDr"
      },
      "source": [
        ""
      ],
      "execution_count": null,
      "outputs": []
    }
  ]
}