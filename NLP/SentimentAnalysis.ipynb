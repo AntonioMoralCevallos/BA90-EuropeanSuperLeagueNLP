{
  "nbformat": 4,
  "nbformat_minor": 0,
  "metadata": {
    "colab": {
      "name": "SentimentAnalysis.ipynb",
      "provenance": []
    },
    "kernelspec": {
      "name": "python3",
      "display_name": "Python 3"
    },
    "language_info": {
      "name": "python"
    }
  },
  "cells": [
    {
      "cell_type": "markdown",
      "metadata": {
        "id": "e-qSXei_zxCI"
      },
      "source": [
        "# Sentiment Analysis"
      ]
    },
    {
      "cell_type": "code",
      "metadata": {
        "id": "Pq3Ux8DbekYY"
      },
      "source": [
        "#imports\n",
        "import numpy as np\n",
        "import pandas as pd\n",
        "import matplotlib.pyplot as plt\n",
        "import seaborn as sns\n",
        "#spacy imports\n",
        "!pip install spacytextblob\n",
        "import spacy  \n",
        "from spacytextblob.spacytextblob import SpacyTextBlob\n",
        "spacy.cli.download(\"en_core_web_lg\")\n",
        "nlp = spacy.load('en_core_web_lg')\n"
      ],
      "execution_count": null,
      "outputs": []
    },
    {
      "cell_type": "markdown",
      "metadata": {
        "id": "asEP7mw2lGag"
      },
      "source": [
        "Polarity is a float within the range [-1.0, 1.0], subjectivity is a float within the range [0.0, 1.0] where 0.0 is very objective and 1.0 is very subjective, and assessments is a list of polarity and subjectivity scores for the assessed tokens."
      ]
    },
    {
      "cell_type": "code",
      "metadata": {
        "colab": {
          "base_uri": "https://localhost:8080/"
        },
        "id": "tNdqb3NMgh2o",
        "outputId": "97177eca-cf7a-48d0-bc47-501a87db0f74"
      },
      "source": [
        "nlp.add_pipe('spacytextblob')"
      ],
      "execution_count": 2,
      "outputs": [
        {
          "output_type": "execute_result",
          "data": {
            "text/plain": [
              "<spacytextblob.spacytextblob.SpacyTextBlob at 0x7f2fbd75f1d0>"
            ]
          },
          "metadata": {
            "tags": []
          },
          "execution_count": 2
        }
      ]
    },
    {
      "cell_type": "code",
      "metadata": {
        "id": "6UfIxpeArCIc"
      },
      "source": [
        "data_current = pd.read_csv('phrase_data.csv')\n",
        "announcement_data = pd.read_csv('announcement_data.csv')"
      ],
      "execution_count": 3,
      "outputs": []
    },
    {
      "cell_type": "code",
      "metadata": {
        "id": "vCGNZnl9rJAQ"
      },
      "source": [
        "data_current.drop('Unnamed: 0',axis=1,inplace=True)\n",
        "announcement_data.drop('Unnamed: 0',axis=1,inplace=True)"
      ],
      "execution_count": 5,
      "outputs": []
    },
    {
      "cell_type": "code",
      "metadata": {
        "id": "2y38aYOorVFR"
      },
      "source": [
        "text_current = data_current.tweet"
      ],
      "execution_count": 6,
      "outputs": []
    },
    {
      "cell_type": "code",
      "metadata": {
        "id": "ytA2o58yrbNB"
      },
      "source": [
        "sentences = []\n",
        "\n",
        "for i in text_current:\n",
        "  i = i.replace('\\n','')\n",
        "  i = i.replace('RT','')\n",
        "  sentences.append(i)\n",
        "\n"
      ],
      "execution_count": 7,
      "outputs": []
    },
    {
      "cell_type": "code",
      "metadata": {
        "id": "MMjkE0IAxcfu"
      },
      "source": [
        "polarity = []\n",
        "assessments = []\n",
        "subjectivity = []\n",
        "for t in sentences:\n",
        "  doc = nlp(t)\n",
        "  polarity.append(doc._.polarity)\n",
        "  assessments.append(doc._.assessments)\n",
        "  subjectivity.append(doc._.subjectivity)\n"
      ],
      "execution_count": 8,
      "outputs": []
    },
    {
      "cell_type": "code",
      "metadata": {
        "id": "Qw1hAFW5yOUh"
      },
      "source": [
        "sentiment_analysis = pd.DataFrame({'tweet_text':sentences,'polarity':polarity,'subjectivity':subjectivity,'assessments':assessments})"
      ],
      "execution_count": 9,
      "outputs": []
    },
    {
      "cell_type": "markdown",
      "metadata": {
        "id": "CjPu_HfZLJLH"
      },
      "source": [
        "Data from April and May "
      ]
    },
    {
      "cell_type": "code",
      "metadata": {
        "id": "W92q2Gu4LIx1"
      },
      "source": [
        "text_past = announcement_data.tweet\n",
        "sentences_2 = []\n",
        "\n",
        "for i in text_past:\n",
        "  i = i.replace('\\n','')\n",
        "  i = i.replace('RT','')\n",
        "  sentences_2.append(i)\n",
        "\n",
        "polarity2 = []\n",
        "assessments2 = []\n",
        "subjectivity2 = []\n",
        "for t in sentences_2:\n",
        "  doc = nlp(t)\n",
        "  polarity2.append(doc._.polarity)\n",
        "  assessments2.append(doc._.assessments)\n",
        "  subjectivity2.append(doc._.subjectivity)\n",
        "\n",
        "past_sent_analysis = pd.DataFrame({'tweet_text':sentences_2,'polarity':polarity2,'subjectivity':subjectivity2,'assessments':assessments2})"
      ],
      "execution_count": 11,
      "outputs": []
    },
    {
      "cell_type": "code",
      "metadata": {
        "id": "AFeJ86YSTRNX"
      },
      "source": [
        "sentiment_analysis['sub_binary'] = sentiment_analysis.subjectivity.apply(lambda x: 1 if x >=0.5 else 0 )"
      ],
      "execution_count": 36,
      "outputs": []
    },
    {
      "cell_type": "code",
      "metadata": {
        "id": "hCucGKjSSbFp"
      },
      "source": [
        "past_sent_analysis['sub_binary'] = past_sent_analysis.subjectivity.apply(lambda x: 1 if x >=0.5 else 0 )"
      ],
      "execution_count": 25,
      "outputs": []
    },
    {
      "cell_type": "code",
      "metadata": {
        "colab": {
          "base_uri": "https://localhost:8080/",
          "height": 350
        },
        "id": "rLQhv7HTQVDa",
        "outputId": "9864a4dc-1b2d-47da-f800-835e9d1858a9"
      },
      "source": [
        "plt.figure(figsize=(10,5))\n",
        "sns.histplot(data=past_sent_analysis,x='polarity',alpha=0.5,hue='sub_binary')\n",
        "sns.color_palette(\"tab10\")\n",
        "plt.xlabel('Polarity of Tweets')\n",
        "plt.ylabel('Frequency')\n",
        "plt.legend(['Subjective','Objective'])\n",
        "plt.title('Polarity and Subjectivity of Tweets close to Announcement')\n",
        "plt.show()"
      ],
      "execution_count": 45,
      "outputs": [
        {
          "output_type": "display_data",
          "data": {
            "image/png": "[encoded data removed]",
            "text/plain": [
              "<Figure size 720x360 with 1 Axes>"
            ]
          },
          "metadata": {
            "tags": [],
            "needs_background": "light"
          }
        }
      ]
    },
    {
      "cell_type": "code",
      "metadata": {
        "colab": {
          "base_uri": "https://localhost:8080/",
          "height": 350
        },
        "id": "IRuwFGOpUwYy",
        "outputId": "cbf05c47-ac6e-4f16-af50-02f873fda821"
      },
      "source": [
        "plt.figure(figsize=(10,5))\n",
        "sns.histplot(data=sentiment_analysis,x='polarity',alpha=0.5,hue='sub_binary')\n",
        "sns.color_palette(\"tab10\")\n",
        "plt.xlabel('Polarity of Tweets')\n",
        "plt.ylabel('Frequency')\n",
        "plt.legend(['Subjective','Objective'])\n",
        "plt.title('Polarity and Subjectivity of Tweets in July')\n",
        "plt.show()"
      ],
      "execution_count": 44,
      "outputs": [
        {
          "output_type": "display_data",
          "data": {
            "image/png": "[encoded data removed]",
            "text/plain": [
              "<Figure size 720x360 with 1 Axes>"
            ]
          },
          "metadata": {
            "tags": [],
            "needs_background": "light"
          }
        }
      ]
    }
  ]
}