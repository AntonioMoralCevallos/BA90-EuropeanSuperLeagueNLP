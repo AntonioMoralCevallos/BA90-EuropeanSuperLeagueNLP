{
  "nbformat": 4,
  "nbformat_minor": 2,
  "metadata": {
    "colab": {
      "name": "NonHashtagDataScrapping.ipynb",
      "provenance": []
    },
    "kernelspec": {
      "name": "python3",
      "display_name": "Python 3.8.3 64-bit ('base': conda)"
    },
    "language_info": {
      "name": "python",
      "version": "3.8.3",
      "mimetype": "text/x-python",
      "codemirror_mode": {
        "name": "ipython",
        "version": 3
      },
      "pygments_lexer": "ipython3",
      "nbconvert_exporter": "python",
      "file_extension": ".py"
    },
    "interpreter": {
      "hash": "bacdf26ad233b22ff1cb926c9eb96cf5673268ba8d7652bc9273d93497b5357b"
    }
  },
  "cells": [
    {
      "cell_type": "markdown",
      "source": [
        "In order to garner more data I queried for more Tweets that include the phrase 'European Super league' instead of the hashtag used before."
      ],
      "metadata": {
        "id": "3PbiHpeqUtBB"
      }
    },
    {
      "cell_type": "code",
      "execution_count": 17,
      "source": [
        "import tweepy\r\n",
        "import pandas as pd\r\n",
        "import datetime as dt"
      ],
      "outputs": [],
      "metadata": {
        "id": "5r3yitFtUmkI"
      }
    },
    {
      "cell_type": "code",
      "execution_count": 2,
      "source": [
        "consumer_key = '9s6TkPcNp4VyMX0js2B5ifxPj'\r\n",
        "consumer_secret = 'zTce5IwIARuiQx98WMDso6B9PmbTtLsTnGhaHBTdqbqVhk9BsU'\r\n",
        "access_token = '925863717274873863-0ZqqeSROt25RJVn41S8LWJM9NHOHPk2'\r\n",
        "access_token_secret = 'GlmJq9XSIAzq8pAU4numofBpx7I3BIGaBUgHONTiplu0v'\r\n",
        "\r\n",
        "auth = tweepy.OAuthHandler(consumer_key,consumer_secret)\r\n",
        "auth.set_access_token(access_token,access_token_secret)\r\n",
        "api = tweepy.API(auth)"
      ],
      "outputs": [],
      "metadata": {}
    },
    {
      "cell_type": "code",
      "execution_count": 35,
      "source": [
        "text = []\r\n",
        "likes = []\r\n",
        "date = []\r\n",
        "last_date = 202107272359\r\n",
        "for query in range(1,5):\r\n",
        "    t = api.search_30_day(environment_name='nlpanalysis',query ='\"European Super League\" lang:en', maxResults = 100,toDate=last_date)\r\n",
        "    for i in t:\r\n",
        "        text.append(i.text)\r\n",
        "        likes.append(i.favorite_count)\r\n",
        "        date.append(i.created_at)\r\n",
        "    timestamp = date[-1:][0]\r\n",
        "    t = str(timestamp.year)+'0'+str(timestamp.month)+str(timestamp.day)+'1200'\r\n",
        "    last_date=int(t)\r\n",
        "        \r\n"
      ],
      "outputs": [],
      "metadata": {}
    },
    {
      "cell_type": "code",
      "execution_count": 36,
      "source": [
        "phrase_data = pd.DataFrame({'tweet':text,'likes':likes,'date':date})"
      ],
      "outputs": [],
      "metadata": {}
    },
    {
      "cell_type": "code",
      "execution_count": 37,
      "source": [
        "phrase_data"
      ],
      "outputs": [
        {
          "output_type": "execute_result",
          "data": {
            "text/plain": [
              "                                                 tweet  likes  \\\n",
              "0    RT @YanitedAlways: 100 days today since the Eu...      0   \n",
              "1    RT @YanitedAlways: 100 days today since the Eu...      0   \n",
              "2    100 days today since the European Super League...     15   \n",
              "3    RT @MayowaQuadri_: I knew something was up whe...      0   \n",
              "4    RT @MayowaQuadri_: I knew something was up whe...      0   \n",
              "..                                                 ...    ...   \n",
              "395  RT @MSHopkins4: Just announced, that you can't...      0   \n",
              "396  RT @SkySportsNews: Manchester United fans gath...      0   \n",
              "397  European Super League \\n\\nMeet 🤝\\n\\nCollege Sp...      2   \n",
              "398  RT @MSHopkins4: Just announced, that you can't...      0   \n",
              "399  RT @MSHopkins4: Just announced, that you can't...      0   \n",
              "\n",
              "                   date  \n",
              "0   2021-07-27 23:44:03  \n",
              "1   2021-07-27 23:41:17  \n",
              "2   2021-07-27 23:33:54  \n",
              "3   2021-07-27 23:23:38  \n",
              "4   2021-07-27 23:23:09  \n",
              "..                  ...  \n",
              "395 2021-07-26 04:11:38  \n",
              "396 2021-07-26 04:08:56  \n",
              "397 2021-07-26 03:22:48  \n",
              "398 2021-07-26 01:18:00  \n",
              "399 2021-07-26 01:14:45  \n",
              "\n",
              "[400 rows x 3 columns]"
            ],
            "text/html": [
              "<div>\n",
              "<style scoped>\n",
              "    .dataframe tbody tr th:only-of-type {\n",
              "        vertical-align: middle;\n",
              "    }\n",
              "\n",
              "    .dataframe tbody tr th {\n",
              "        vertical-align: top;\n",
              "    }\n",
              "\n",
              "    .dataframe thead th {\n",
              "        text-align: right;\n",
              "    }\n",
              "</style>\n",
              "<table border=\"1\" class=\"dataframe\">\n",
              "  <thead>\n",
              "    <tr style=\"text-align: right;\">\n",
              "      <th></th>\n",
              "      <th>tweet</th>\n",
              "      <th>likes</th>\n",
              "      <th>date</th>\n",
              "    </tr>\n",
              "  </thead>\n",
              "  <tbody>\n",
              "    <tr>\n",
              "      <th>0</th>\n",
              "      <td>RT @YanitedAlways: 100 days today since the Eu...</td>\n",
              "      <td>0</td>\n",
              "      <td>2021-07-27 23:44:03</td>\n",
              "    </tr>\n",
              "    <tr>\n",
              "      <th>1</th>\n",
              "      <td>RT @YanitedAlways: 100 days today since the Eu...</td>\n",
              "      <td>0</td>\n",
              "      <td>2021-07-27 23:41:17</td>\n",
              "    </tr>\n",
              "    <tr>\n",
              "      <th>2</th>\n",
              "      <td>100 days today since the European Super League...</td>\n",
              "      <td>15</td>\n",
              "      <td>2021-07-27 23:33:54</td>\n",
              "    </tr>\n",
              "    <tr>\n",
              "      <th>3</th>\n",
              "      <td>RT @MayowaQuadri_: I knew something was up whe...</td>\n",
              "      <td>0</td>\n",
              "      <td>2021-07-27 23:23:38</td>\n",
              "    </tr>\n",
              "    <tr>\n",
              "      <th>4</th>\n",
              "      <td>RT @MayowaQuadri_: I knew something was up whe...</td>\n",
              "      <td>0</td>\n",
              "      <td>2021-07-27 23:23:09</td>\n",
              "    </tr>\n",
              "    <tr>\n",
              "      <th>...</th>\n",
              "      <td>...</td>\n",
              "      <td>...</td>\n",
              "      <td>...</td>\n",
              "    </tr>\n",
              "    <tr>\n",
              "      <th>395</th>\n",
              "      <td>RT @MSHopkins4: Just announced, that you can't...</td>\n",
              "      <td>0</td>\n",
              "      <td>2021-07-26 04:11:38</td>\n",
              "    </tr>\n",
              "    <tr>\n",
              "      <th>396</th>\n",
              "      <td>RT @SkySportsNews: Manchester United fans gath...</td>\n",
              "      <td>0</td>\n",
              "      <td>2021-07-26 04:08:56</td>\n",
              "    </tr>\n",
              "    <tr>\n",
              "      <th>397</th>\n",
              "      <td>European Super League \\n\\nMeet 🤝\\n\\nCollege Sp...</td>\n",
              "      <td>2</td>\n",
              "      <td>2021-07-26 03:22:48</td>\n",
              "    </tr>\n",
              "    <tr>\n",
              "      <th>398</th>\n",
              "      <td>RT @MSHopkins4: Just announced, that you can't...</td>\n",
              "      <td>0</td>\n",
              "      <td>2021-07-26 01:18:00</td>\n",
              "    </tr>\n",
              "    <tr>\n",
              "      <th>399</th>\n",
              "      <td>RT @MSHopkins4: Just announced, that you can't...</td>\n",
              "      <td>0</td>\n",
              "      <td>2021-07-26 01:14:45</td>\n",
              "    </tr>\n",
              "  </tbody>\n",
              "</table>\n",
              "<p>400 rows × 3 columns</p>\n",
              "</div>"
            ]
          },
          "metadata": {},
          "execution_count": 37
        }
      ],
      "metadata": {}
    },
    {
      "cell_type": "code",
      "execution_count": 38,
      "source": [
        "c = phrase_data.drop_duplicates()"
      ],
      "outputs": [],
      "metadata": {}
    },
    {
      "cell_type": "code",
      "execution_count": 39,
      "source": [
        "c.info()"
      ],
      "outputs": [
        {
          "output_type": "stream",
          "name": "stdout",
          "text": [
            "<class 'pandas.core.frame.DataFrame'>\n",
            "Int64Index: 270 entries, 0 to 299\n",
            "Data columns (total 3 columns):\n",
            " #   Column  Non-Null Count  Dtype         \n",
            "---  ------  --------------  -----         \n",
            " 0   tweet   270 non-null    object        \n",
            " 1   likes   270 non-null    int64         \n",
            " 2   date    270 non-null    datetime64[ns]\n",
            "dtypes: datetime64[ns](1), int64(1), object(1)\n",
            "memory usage: 8.4+ KB\n"
          ]
        }
      ],
      "metadata": {}
    },
    {
      "cell_type": "code",
      "execution_count": 40,
      "source": [
        "c"
      ],
      "outputs": [
        {
          "output_type": "execute_result",
          "data": {
            "text/plain": [
              "                                                 tweet  likes  \\\n",
              "0    RT @YanitedAlways: 100 days today since the Eu...      0   \n",
              "1    RT @YanitedAlways: 100 days today since the Eu...      0   \n",
              "2    100 days today since the European Super League...     15   \n",
              "3    RT @MayowaQuadri_: I knew something was up whe...      0   \n",
              "4    RT @MayowaQuadri_: I knew something was up whe...      0   \n",
              "..                                                 ...    ...   \n",
              "295  RT @MSHopkins4: Just announced, that you can't...      0   \n",
              "296  RT @SkySportsNews: Manchester United fans gath...      0   \n",
              "297  European Super League \\n\\nMeet 🤝\\n\\nCollege Sp...      2   \n",
              "298  RT @MSHopkins4: Just announced, that you can't...      0   \n",
              "299  RT @MSHopkins4: Just announced, that you can't...      0   \n",
              "\n",
              "                   date  \n",
              "0   2021-07-27 23:44:03  \n",
              "1   2021-07-27 23:41:17  \n",
              "2   2021-07-27 23:33:54  \n",
              "3   2021-07-27 23:23:38  \n",
              "4   2021-07-27 23:23:09  \n",
              "..                  ...  \n",
              "295 2021-07-26 04:11:38  \n",
              "296 2021-07-26 04:08:56  \n",
              "297 2021-07-26 03:22:48  \n",
              "298 2021-07-26 01:18:00  \n",
              "299 2021-07-26 01:14:45  \n",
              "\n",
              "[270 rows x 3 columns]"
            ],
            "text/html": [
              "<div>\n",
              "<style scoped>\n",
              "    .dataframe tbody tr th:only-of-type {\n",
              "        vertical-align: middle;\n",
              "    }\n",
              "\n",
              "    .dataframe tbody tr th {\n",
              "        vertical-align: top;\n",
              "    }\n",
              "\n",
              "    .dataframe thead th {\n",
              "        text-align: right;\n",
              "    }\n",
              "</style>\n",
              "<table border=\"1\" class=\"dataframe\">\n",
              "  <thead>\n",
              "    <tr style=\"text-align: right;\">\n",
              "      <th></th>\n",
              "      <th>tweet</th>\n",
              "      <th>likes</th>\n",
              "      <th>date</th>\n",
              "    </tr>\n",
              "  </thead>\n",
              "  <tbody>\n",
              "    <tr>\n",
              "      <th>0</th>\n",
              "      <td>RT @YanitedAlways: 100 days today since the Eu...</td>\n",
              "      <td>0</td>\n",
              "      <td>2021-07-27 23:44:03</td>\n",
              "    </tr>\n",
              "    <tr>\n",
              "      <th>1</th>\n",
              "      <td>RT @YanitedAlways: 100 days today since the Eu...</td>\n",
              "      <td>0</td>\n",
              "      <td>2021-07-27 23:41:17</td>\n",
              "    </tr>\n",
              "    <tr>\n",
              "      <th>2</th>\n",
              "      <td>100 days today since the European Super League...</td>\n",
              "      <td>15</td>\n",
              "      <td>2021-07-27 23:33:54</td>\n",
              "    </tr>\n",
              "    <tr>\n",
              "      <th>3</th>\n",
              "      <td>RT @MayowaQuadri_: I knew something was up whe...</td>\n",
              "      <td>0</td>\n",
              "      <td>2021-07-27 23:23:38</td>\n",
              "    </tr>\n",
              "    <tr>\n",
              "      <th>4</th>\n",
              "      <td>RT @MayowaQuadri_: I knew something was up whe...</td>\n",
              "      <td>0</td>\n",
              "      <td>2021-07-27 23:23:09</td>\n",
              "    </tr>\n",
              "    <tr>\n",
              "      <th>...</th>\n",
              "      <td>...</td>\n",
              "      <td>...</td>\n",
              "      <td>...</td>\n",
              "    </tr>\n",
              "    <tr>\n",
              "      <th>295</th>\n",
              "      <td>RT @MSHopkins4: Just announced, that you can't...</td>\n",
              "      <td>0</td>\n",
              "      <td>2021-07-26 04:11:38</td>\n",
              "    </tr>\n",
              "    <tr>\n",
              "      <th>296</th>\n",
              "      <td>RT @SkySportsNews: Manchester United fans gath...</td>\n",
              "      <td>0</td>\n",
              "      <td>2021-07-26 04:08:56</td>\n",
              "    </tr>\n",
              "    <tr>\n",
              "      <th>297</th>\n",
              "      <td>European Super League \\n\\nMeet 🤝\\n\\nCollege Sp...</td>\n",
              "      <td>2</td>\n",
              "      <td>2021-07-26 03:22:48</td>\n",
              "    </tr>\n",
              "    <tr>\n",
              "      <th>298</th>\n",
              "      <td>RT @MSHopkins4: Just announced, that you can't...</td>\n",
              "      <td>0</td>\n",
              "      <td>2021-07-26 01:18:00</td>\n",
              "    </tr>\n",
              "    <tr>\n",
              "      <th>299</th>\n",
              "      <td>RT @MSHopkins4: Just announced, that you can't...</td>\n",
              "      <td>0</td>\n",
              "      <td>2021-07-26 01:14:45</td>\n",
              "    </tr>\n",
              "  </tbody>\n",
              "</table>\n",
              "<p>270 rows × 3 columns</p>\n",
              "</div>"
            ]
          },
          "metadata": {},
          "execution_count": 40
        }
      ],
      "metadata": {}
    },
    {
      "cell_type": "code",
      "execution_count": 41,
      "source": [
        "c.to_csv('phrase_data.csv')"
      ],
      "outputs": [],
      "metadata": {}
    },
    {
      "cell_type": "code",
      "execution_count": null,
      "source": [],
      "outputs": [],
      "metadata": {}
    }
  ]
}