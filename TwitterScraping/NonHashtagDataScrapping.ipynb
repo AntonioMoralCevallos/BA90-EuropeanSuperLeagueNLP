{
  "nbformat": 4,
  "nbformat_minor": 0,
  "metadata": {
    "colab": {
      "name": "NonHashtagDataScrapping.ipynb",
      "provenance": []
    },
    "kernelspec": {
      "name": "python3",
      "display_name": "Python 3.8.3 64-bit ('base': conda)"
    },
    "language_info": {
      "name": "python",
      "version": "3.8.3",
      "mimetype": "text/x-python",
      "codemirror_mode": {
        "name": "ipython",
        "version": 3
      },
      "pygments_lexer": "ipython3",
      "nbconvert_exporter": "python",
      "file_extension": ".py"
    },
    "interpreter": {
      "hash": "bacdf26ad233b22ff1cb926c9eb96cf5673268ba8d7652bc9273d93497b5357b"
    }
  },
  "cells": [
    {
      "cell_type": "markdown",
      "metadata": {
        "id": "3PbiHpeqUtBB"
      },
      "source": [
        "In order to garner more data I queried for more Tweets that include the phrase 'European Super league' instead of the hashtag used before."
      ]
    },
    {
      "cell_type": "code",
      "metadata": {
        "id": "5r3yitFtUmkI"
      },
      "source": [
        "import tweepy\n",
        "import pandas as pd\n",
        "import datetime as dt"
      ],
      "execution_count": null,
      "outputs": []
    },
    {
      "cell_type": "code",
      "metadata": {
        "id": "oUdjPhF50biH"
      },
      "source": [
        "consumer_key = \n",
        "consumer_secret = \n",
        "access_token = \n",
        "access_token_secret = \n",
        "\n",
        "auth = tweepy.OAuthHandler(consumer_key,consumer_secret)\n",
        "auth.set_access_token(access_token,access_token_secret)\n",
        "api = tweepy.API(auth)"
      ],
      "execution_count": null,
      "outputs": []
    },
    {
      "cell_type": "code",
      "metadata": {
        "id": "OXy0stIm0biJ"
      },
      "source": [
        "text = []\n",
        "likes = []\n",
        "date = []\n",
        "last_date = 202107272359\n",
        "for query in range(1,5):\n",
        "    t = api.search_30_day(environment_name='nlpanalysis',query ='\"European Super League\" lang:en', maxResults = 100,toDate=last_date)\n",
        "    for i in t:\n",
        "        text.append(i.text)\n",
        "        likes.append(i.favorite_count)\n",
        "        date.append(i.created_at)\n",
        "    timestamp = date[-1:][0]\n",
        "    t = str(timestamp.year)+'0'+str(timestamp.month)+str(timestamp.day)+'1200'\n",
        "    last_date=int(t)\n",
        "        \n"
      ],
      "execution_count": null,
      "outputs": []
    },
    {
      "cell_type": "code",
      "metadata": {
        "id": "8VvypuFN0biK"
      },
      "source": [
        "phrase_data = pd.DataFrame({'tweet':text,'likes':likes,'date':date})"
      ],
      "execution_count": null,
      "outputs": []
    },
    {
      "cell_type": "code",
      "metadata": {
        "id": "zLX-B6fw0biL",
        "outputId": "c4309164-5b65-4ebe-c099-6613ea63d5c8"
      },
      "source": [
        "phrase_data"
      ],
      "execution_count": null,
      "outputs": [
        {
          "output_type": "execute_result",
          "data": {
            "text/plain": [
              "                                                 tweet  likes  \\\n",
              "0    RT @YanitedAlways: 100 days today since the Eu...      0   \n",
              "1    RT @YanitedAlways: 100 days today since the Eu...      0   \n",
              "2    100 days today since the European Super League...     15   \n",
              "3    RT @MayowaQuadri_: I knew something was up whe...      0   \n",
              "4    RT @MayowaQuadri_: I knew something was up whe...      0   \n",
              "..                                                 ...    ...   \n",
              "395  RT @MSHopkins4: Just announced, that you can't...      0   \n",
              "396  RT @SkySportsNews: Manchester United fans gath...      0   \n",
              "397  European Super League \\n\\nMeet 🤝\\n\\nCollege Sp...      2   \n",
              "398  RT @MSHopkins4: Just announced, that you can't...      0   \n",
              "399  RT @MSHopkins4: Just announced, that you can't...      0   \n",
              "\n",
              "                   date  \n",
              "0   2021-07-27 23:44:03  \n",
              "1   2021-07-27 23:41:17  \n",
              "2   2021-07-27 23:33:54  \n",
              "3   2021-07-27 23:23:38  \n",
              "4   2021-07-27 23:23:09  \n",
              "..                  ...  \n",
              "395 2021-07-26 04:11:38  \n",
              "396 2021-07-26 04:08:56  \n",
              "397 2021-07-26 03:22:48  \n",
              "398 2021-07-26 01:18:00  \n",
              "399 2021-07-26 01:14:45  \n",
              "\n",
              "[400 rows x 3 columns]"
            ],
            "text/html": [
              "<div>\n",
              "<style scoped>\n",
              "    .dataframe tbody tr th:only-of-type {\n",
              "        vertical-align: middle;\n",
              "    }\n",
              "\n",
              "    .dataframe tbody tr th {\n",
              "        vertical-align: top;\n",
              "    }\n",
              "\n",
              "    .dataframe thead th {\n",
              "        text-align: right;\n",
              "    }\n",
              "</style>\n",
              "<table border=\"1\" class=\"dataframe\">\n",
              "  <thead>\n",
              "    <tr style=\"text-align: right;\">\n",
              "      <th></th>\n",
              "      <th>tweet</th>\n",
              "      <th>likes</th>\n",
              "      <th>date</th>\n",
              "    </tr>\n",
              "  </thead>\n",
              "  <tbody>\n",
              "    <tr>\n",
              "      <th>0</th>\n",
              "      <td>RT @YanitedAlways: 100 days today since the Eu...</td>\n",
              "      <td>0</td>\n",
              "      <td>2021-07-27 23:44:03</td>\n",
              "    </tr>\n",
              "    <tr>\n",
              "      <th>1</th>\n",
              "      <td>RT @YanitedAlways: 100 days today since the Eu...</td>\n",
              "      <td>0</td>\n",
              "      <td>2021-07-27 23:41:17</td>\n",
              "    </tr>\n",
              "    <tr>\n",
              "      <th>2</th>\n",
              "      <td>100 days today since the European Super League...</td>\n",
              "      <td>15</td>\n",
              "      <td>2021-07-27 23:33:54</td>\n",
              "    </tr>\n",
              "    <tr>\n",
              "      <th>3</th>\n",
              "      <td>RT @MayowaQuadri_: I knew something was up whe...</td>\n",
              "      <td>0</td>\n",
              "      <td>2021-07-27 23:23:38</td>\n",
              "    </tr>\n",
              "    <tr>\n",
              "      <th>4</th>\n",
              "      <td>RT @MayowaQuadri_: I knew something was up whe...</td>\n",
              "      <td>0</td>\n",
              "      <td>2021-07-27 23:23:09</td>\n",
              "    </tr>\n",
              "    <tr>\n",
              "      <th>...</th>\n",
              "      <td>...</td>\n",
              "      <td>...</td>\n",
              "      <td>...</td>\n",
              "    </tr>\n",
              "    <tr>\n",
              "      <th>395</th>\n",
              "      <td>RT @MSHopkins4: Just announced, that you can't...</td>\n",
              "      <td>0</td>\n",
              "      <td>2021-07-26 04:11:38</td>\n",
              "    </tr>\n",
              "    <tr>\n",
              "      <th>396</th>\n",
              "      <td>RT @SkySportsNews: Manchester United fans gath...</td>\n",
              "      <td>0</td>\n",
              "      <td>2021-07-26 04:08:56</td>\n",
              "    </tr>\n",
              "    <tr>\n",
              "      <th>397</th>\n",
              "      <td>European Super League \\n\\nMeet 🤝\\n\\nCollege Sp...</td>\n",
              "      <td>2</td>\n",
              "      <td>2021-07-26 03:22:48</td>\n",
              "    </tr>\n",
              "    <tr>\n",
              "      <th>398</th>\n",
              "      <td>RT @MSHopkins4: Just announced, that you can't...</td>\n",
              "      <td>0</td>\n",
              "      <td>2021-07-26 01:18:00</td>\n",
              "    </tr>\n",
              "    <tr>\n",
              "      <th>399</th>\n",
              "      <td>RT @MSHopkins4: Just announced, that you can't...</td>\n",
              "      <td>0</td>\n",
              "      <td>2021-07-26 01:14:45</td>\n",
              "    </tr>\n",
              "  </tbody>\n",
              "</table>\n",
              "<p>400 rows × 3 columns</p>\n",
              "</div>"
            ]
          },
          "metadata": {
            "tags": []
          },
          "execution_count": 37
        }
      ]
    },
    {
      "cell_type": "code",
      "metadata": {
        "id": "PslFmzYq0biM"
      },
      "source": [
        "c = phrase_data.drop_duplicates()"
      ],
      "execution_count": null,
      "outputs": []
    },
    {
      "cell_type": "code",
      "metadata": {
        "id": "PjeO1d3A0biN",
        "outputId": "eeb3655f-9e47-4655-9569-d761a9624ae1"
      },
      "source": [
        "c.info()"
      ],
      "execution_count": null,
      "outputs": [
        {
          "output_type": "stream",
          "text": [
            "<class 'pandas.core.frame.DataFrame'>\n",
            "Int64Index: 270 entries, 0 to 299\n",
            "Data columns (total 3 columns):\n",
            " #   Column  Non-Null Count  Dtype         \n",
            "---  ------  --------------  -----         \n",
            " 0   tweet   270 non-null    object        \n",
            " 1   likes   270 non-null    int64         \n",
            " 2   date    270 non-null    datetime64[ns]\n",
            "dtypes: datetime64[ns](1), int64(1), object(1)\n",
            "memory usage: 8.4+ KB\n"
          ],
          "name": "stdout"
        }
      ]
    },
    {
      "cell_type": "code",
      "metadata": {
        "id": "dUnT9Wgj0biP",
        "outputId": "e6f7229b-481f-4921-bc57-f37b11935a7f"
      },
      "source": [
        "c"
      ],
      "execution_count": null,
      "outputs": [
        {
          "output_type": "execute_result",
          "data": {
            "text/plain": [
              "                                                 tweet  likes  \\\n",
              "0    RT @YanitedAlways: 100 days today since the Eu...      0   \n",
              "1    RT @YanitedAlways: 100 days today since the Eu...      0   \n",
              "2    100 days today since the European Super League...     15   \n",
              "3    RT @MayowaQuadri_: I knew something was up whe...      0   \n",
              "4    RT @MayowaQuadri_: I knew something was up whe...      0   \n",
              "..                                                 ...    ...   \n",
              "295  RT @MSHopkins4: Just announced, that you can't...      0   \n",
              "296  RT @SkySportsNews: Manchester United fans gath...      0   \n",
              "297  European Super League \\n\\nMeet 🤝\\n\\nCollege Sp...      2   \n",
              "298  RT @MSHopkins4: Just announced, that you can't...      0   \n",
              "299  RT @MSHopkins4: Just announced, that you can't...      0   \n",
              "\n",
              "                   date  \n",
              "0   2021-07-27 23:44:03  \n",
              "1   2021-07-27 23:41:17  \n",
              "2   2021-07-27 23:33:54  \n",
              "3   2021-07-27 23:23:38  \n",
              "4   2021-07-27 23:23:09  \n",
              "..                  ...  \n",
              "295 2021-07-26 04:11:38  \n",
              "296 2021-07-26 04:08:56  \n",
              "297 2021-07-26 03:22:48  \n",
              "298 2021-07-26 01:18:00  \n",
              "299 2021-07-26 01:14:45  \n",
              "\n",
              "[270 rows x 3 columns]"
            ],
            "text/html": [
              "<div>\n",
              "<style scoped>\n",
              "    .dataframe tbody tr th:only-of-type {\n",
              "        vertical-align: middle;\n",
              "    }\n",
              "\n",
              "    .dataframe tbody tr th {\n",
              "        vertical-align: top;\n",
              "    }\n",
              "\n",
              "    .dataframe thead th {\n",
              "        text-align: right;\n",
              "    }\n",
              "</style>\n",
              "<table border=\"1\" class=\"dataframe\">\n",
              "  <thead>\n",
              "    <tr style=\"text-align: right;\">\n",
              "      <th></th>\n",
              "      <th>tweet</th>\n",
              "      <th>likes</th>\n",
              "      <th>date</th>\n",
              "    </tr>\n",
              "  </thead>\n",
              "  <tbody>\n",
              "    <tr>\n",
              "      <th>0</th>\n",
              "      <td>RT @YanitedAlways: 100 days today since the Eu...</td>\n",
              "      <td>0</td>\n",
              "      <td>2021-07-27 23:44:03</td>\n",
              "    </tr>\n",
              "    <tr>\n",
              "      <th>1</th>\n",
              "      <td>RT @YanitedAlways: 100 days today since the Eu...</td>\n",
              "      <td>0</td>\n",
              "      <td>2021-07-27 23:41:17</td>\n",
              "    </tr>\n",
              "    <tr>\n",
              "      <th>2</th>\n",
              "      <td>100 days today since the European Super League...</td>\n",
              "      <td>15</td>\n",
              "      <td>2021-07-27 23:33:54</td>\n",
              "    </tr>\n",
              "    <tr>\n",
              "      <th>3</th>\n",
              "      <td>RT @MayowaQuadri_: I knew something was up whe...</td>\n",
              "      <td>0</td>\n",
              "      <td>2021-07-27 23:23:38</td>\n",
              "    </tr>\n",
              "    <tr>\n",
              "      <th>4</th>\n",
              "      <td>RT @MayowaQuadri_: I knew something was up whe...</td>\n",
              "      <td>0</td>\n",
              "      <td>2021-07-27 23:23:09</td>\n",
              "    </tr>\n",
              "    <tr>\n",
              "      <th>...</th>\n",
              "      <td>...</td>\n",
              "      <td>...</td>\n",
              "      <td>...</td>\n",
              "    </tr>\n",
              "    <tr>\n",
              "      <th>295</th>\n",
              "      <td>RT @MSHopkins4: Just announced, that you can't...</td>\n",
              "      <td>0</td>\n",
              "      <td>2021-07-26 04:11:38</td>\n",
              "    </tr>\n",
              "    <tr>\n",
              "      <th>296</th>\n",
              "      <td>RT @SkySportsNews: Manchester United fans gath...</td>\n",
              "      <td>0</td>\n",
              "      <td>2021-07-26 04:08:56</td>\n",
              "    </tr>\n",
              "    <tr>\n",
              "      <th>297</th>\n",
              "      <td>European Super League \\n\\nMeet 🤝\\n\\nCollege Sp...</td>\n",
              "      <td>2</td>\n",
              "      <td>2021-07-26 03:22:48</td>\n",
              "    </tr>\n",
              "    <tr>\n",
              "      <th>298</th>\n",
              "      <td>RT @MSHopkins4: Just announced, that you can't...</td>\n",
              "      <td>0</td>\n",
              "      <td>2021-07-26 01:18:00</td>\n",
              "    </tr>\n",
              "    <tr>\n",
              "      <th>299</th>\n",
              "      <td>RT @MSHopkins4: Just announced, that you can't...</td>\n",
              "      <td>0</td>\n",
              "      <td>2021-07-26 01:14:45</td>\n",
              "    </tr>\n",
              "  </tbody>\n",
              "</table>\n",
              "<p>270 rows × 3 columns</p>\n",
              "</div>"
            ]
          },
          "metadata": {
            "tags": []
          },
          "execution_count": 40
        }
      ]
    },
    {
      "cell_type": "code",
      "metadata": {
        "id": "PPV0HraI0biT"
      },
      "source": [
        "c.to_csv('phrase_data.csv')"
      ],
      "execution_count": null,
      "outputs": []
    },
    {
      "cell_type": "code",
      "metadata": {
        "id": "hcHSLCg20biU"
      },
      "source": [
        ""
      ],
      "execution_count": null,
      "outputs": []
    }
  ]
}