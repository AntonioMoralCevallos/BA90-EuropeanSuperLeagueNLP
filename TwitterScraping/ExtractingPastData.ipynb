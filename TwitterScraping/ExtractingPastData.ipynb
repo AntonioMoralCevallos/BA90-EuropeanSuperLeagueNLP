{
  "nbformat": 4,
  "nbformat_minor": 0,
  "metadata": {
    "colab": {
      "name": "ExtractingPastData.ipynb",
      "provenance": []
    },
    "kernelspec": {
      "name": "python3",
      "display_name": "Python 3"
    },
    "language_info": {
      "name": "python"
    }
  },
  "cells": [
    {
      "cell_type": "code",
      "metadata": {
        "id": "uteniPCs_7Cc"
      },
      "source": [
        "# Imports \n",
        "import pandas as pd\n",
        "import numpy as np\n"
      ],
      "execution_count": null,
      "outputs": []
    },
    {
      "cell_type": "code",
      "metadata": {
        "id": "wuhJyz6icZRT"
      },
      "source": [
        "consumer_key = \n",
        "consumer_secret = \n",
        "access_token = \n",
        "access_token_secret = "
      ],
      "execution_count": null,
      "outputs": []
    },
    {
      "cell_type": "code",
      "metadata": {
        "id": "6lRGYWTKcZRU"
      },
      "source": [
        "import tweepy"
      ],
      "execution_count": null,
      "outputs": []
    },
    {
      "cell_type": "code",
      "metadata": {
        "id": "KKnT-nRocZRU"
      },
      "source": [
        "auth = tweepy.OAuthHandler(consumer_key,consumer_secret)\n",
        "auth.set_access_token(access_token,access_token_secret)\n",
        "api = tweepy.API(auth)\n",
        "dev_env = 'europeansoccerleaguedata'"
      ],
      "execution_count": null,
      "outputs": []
    },
    {
      "cell_type": "code",
      "metadata": {
        "id": "xDf1Z944cZRU"
      },
      "source": [
        "#dates must be in this format yyyyMMddHHmm\n",
        "b_date = '202104181200'\n",
        "e_date = '202105202359'"
      ],
      "execution_count": null,
      "outputs": []
    },
    {
      "cell_type": "code",
      "metadata": {
        "id": "AhC1qeVk1d_c"
      },
      "source": [
        "test = api.search_full_archive(environment_name=dev_env,query = '#EuropeanSuperLeague lang:en',fromDate = b_date,toDate=e_date)"
      ],
      "execution_count": null,
      "outputs": []
    },
    {
      "cell_type": "code",
      "metadata": {
        "id": "REV2_tBx1d1f"
      },
      "source": [
        "\n",
        "full_text = []\n",
        "likes = []\n",
        "date = []\n",
        "tweet_id = []\n",
        "for tweet in test:\n",
        "    full_text.append(tweet.text)\n",
        "    likes.append(tweet.favorite_count)\n",
        "    date.append(tweet.created_at)\n",
        "    tweet_id.append(tweet.id)"
      ],
      "execution_count": null,
      "outputs": []
    },
    {
      "cell_type": "code",
      "metadata": {
        "colab": {
          "base_uri": "https://localhost:8080/"
        },
        "id": "EbmnWOS221zt",
        "outputId": "5fabd56f-d792-4040-c464-d5c8b48d0df9"
      },
      "source": [
        "len(full_text)"
      ],
      "execution_count": null,
      "outputs": [
        {
          "output_type": "execute_result",
          "data": {
            "text/plain": [
              "100"
            ]
          },
          "metadata": {
            "tags": []
          },
          "execution_count": 13
        }
      ]
    },
    {
      "cell_type": "code",
      "metadata": {
        "id": "mqcXybuk234_"
      },
      "source": [
        "df = pd.DataFrame({'tweet':full_text,'likes': likes, 'date_posted' : date, 'id':tweet_id})"
      ],
      "execution_count": null,
      "outputs": []
    },
    {
      "cell_type": "code",
      "metadata": {
        "colab": {
          "base_uri": "https://localhost:8080/",
          "height": 419
        },
        "id": "VLiLKezG3o1F",
        "outputId": "8032582e-dcee-4452-9443-a252648905cd"
      },
      "source": [
        "df"
      ],
      "execution_count": null,
      "outputs": [
        {
          "output_type": "execute_result",
          "data": {
            "text/html": [
              "<div>\n",
              "<style scoped>\n",
              "    .dataframe tbody tr th:only-of-type {\n",
              "        vertical-align: middle;\n",
              "    }\n",
              "\n",
              "    .dataframe tbody tr th {\n",
              "        vertical-align: top;\n",
              "    }\n",
              "\n",
              "    .dataframe thead th {\n",
              "        text-align: right;\n",
              "    }\n",
              "</style>\n",
              "<table border=\"1\" class=\"dataframe\">\n",
              "  <thead>\n",
              "    <tr style=\"text-align: right;\">\n",
              "      <th></th>\n",
              "      <th>tweet</th>\n",
              "      <th>likes</th>\n",
              "      <th>date_posted</th>\n",
              "      <th>id</th>\n",
              "    </tr>\n",
              "  </thead>\n",
              "  <tbody>\n",
              "    <tr>\n",
              "      <th>0</th>\n",
              "      <td>#EuropeanSuperLeague #FIFA #GianniInfantino ES...</td>\n",
              "      <td>0</td>\n",
              "      <td>2021-05-20 23:44:04</td>\n",
              "      <td>1395525763277877251</td>\n",
              "    </tr>\n",
              "    <tr>\n",
              "      <th>1</th>\n",
              "      <td>Episode 46 - finally talking football! Did the...</td>\n",
              "      <td>0</td>\n",
              "      <td>2021-05-20 21:12:34</td>\n",
              "      <td>1395487638073888771</td>\n",
              "    </tr>\n",
              "    <tr>\n",
              "      <th>2</th>\n",
              "      <td>RT @paulnixey: Sport: more important than ever...</td>\n",
              "      <td>0</td>\n",
              "      <td>2021-05-20 19:36:33</td>\n",
              "      <td>1395463474893914112</td>\n",
              "    </tr>\n",
              "    <tr>\n",
              "      <th>3</th>\n",
              "      <td>Sport: more important than ever. \\n\\nPR: alway...</td>\n",
              "      <td>3</td>\n",
              "      <td>2021-05-20 19:32:42</td>\n",
              "      <td>1395462507041411073</td>\n",
              "    </tr>\n",
              "    <tr>\n",
              "      <th>4</th>\n",
              "      <td>. @PaulNixey and @KylieMcMullan write: Communi...</td>\n",
              "      <td>6</td>\n",
              "      <td>2021-05-20 19:30:30</td>\n",
              "      <td>1395461951518433282</td>\n",
              "    </tr>\n",
              "    <tr>\n",
              "      <th>...</th>\n",
              "      <td>...</td>\n",
              "      <td>...</td>\n",
              "      <td>...</td>\n",
              "      <td>...</td>\n",
              "    </tr>\n",
              "    <tr>\n",
              "      <th>95</th>\n",
              "      <td>Petition: Introduce an Independent Regulator f...</td>\n",
              "      <td>0</td>\n",
              "      <td>2021-05-17 08:57:49</td>\n",
              "      <td>1394215567243022336</td>\n",
              "    </tr>\n",
              "    <tr>\n",
              "      <th>96</th>\n",
              "      <td>@RichardGillis1 @ECB_cricket @TeddingtonCC @1P...</td>\n",
              "      <td>2</td>\n",
              "      <td>2021-05-16 19:01:44</td>\n",
              "      <td>1394005162528808966</td>\n",
              "    </tr>\n",
              "    <tr>\n",
              "      <th>97</th>\n",
              "      <td>#Spotify boss says bid for #Arsenal rejected\\n...</td>\n",
              "      <td>0</td>\n",
              "      <td>2021-05-16 18:00:01</td>\n",
              "      <td>1393989630706475012</td>\n",
              "    </tr>\n",
              "    <tr>\n",
              "      <th>98</th>\n",
              "      <td>RT @abdiwahabmaalim: They Wanted The #european...</td>\n",
              "      <td>0</td>\n",
              "      <td>2021-05-16 17:56:32</td>\n",
              "      <td>1393988751936954369</td>\n",
              "    </tr>\n",
              "    <tr>\n",
              "      <th>99</th>\n",
              "      <td>They Wanted The #europeansuperleague. Will Eur...</td>\n",
              "      <td>1</td>\n",
              "      <td>2021-05-16 17:50:07</td>\n",
              "      <td>1393987139537416192</td>\n",
              "    </tr>\n",
              "  </tbody>\n",
              "</table>\n",
              "<p>100 rows × 4 columns</p>\n",
              "</div>"
            ],
            "text/plain": [
              "                                                tweet  ...                   id\n",
              "0   #EuropeanSuperLeague #FIFA #GianniInfantino ES...  ...  1395525763277877251\n",
              "1   Episode 46 - finally talking football! Did the...  ...  1395487638073888771\n",
              "2   RT @paulnixey: Sport: more important than ever...  ...  1395463474893914112\n",
              "3   Sport: more important than ever. \\n\\nPR: alway...  ...  1395462507041411073\n",
              "4   . @PaulNixey and @KylieMcMullan write: Communi...  ...  1395461951518433282\n",
              "..                                                ...  ...                  ...\n",
              "95  Petition: Introduce an Independent Regulator f...  ...  1394215567243022336\n",
              "96  @RichardGillis1 @ECB_cricket @TeddingtonCC @1P...  ...  1394005162528808966\n",
              "97  #Spotify boss says bid for #Arsenal rejected\\n...  ...  1393989630706475012\n",
              "98  RT @abdiwahabmaalim: They Wanted The #european...  ...  1393988751936954369\n",
              "99  They Wanted The #europeansuperleague. Will Eur...  ...  1393987139537416192\n",
              "\n",
              "[100 rows x 4 columns]"
            ]
          },
          "metadata": {
            "tags": []
          },
          "execution_count": 15
        }
      ]
    },
    {
      "cell_type": "code",
      "metadata": {
        "id": "LmZ4GbNs3ppT"
      },
      "source": [
        "full_text2 = []\n",
        "likes2 = []\n",
        "date2 = []\n",
        "tweet_id2 = []\n",
        "for page in tweepy.Cursor(api.search_full_archive,environment_name=dev_env,query = '#EuropeanSuperLeague lang:en',fromDate = b_date,toDate=e_date).pages(10):\n",
        "  for status in page:\n",
        "    full_text2.append(status.text)\n",
        "    likes2.append(status.favorite_count)\n",
        "    date2.append(status.created_at)\n",
        "    tweet_id2.append(status.id)\n"
      ],
      "execution_count": null,
      "outputs": []
    },
    {
      "cell_type": "code",
      "metadata": {
        "id": "jSrasciJ7eYy"
      },
      "source": [
        "announcement_data = pd.DataFrame({'tweet':full_text2,'likes': likes2, 'date_posted' : date2, 'id':tweet_id2})"
      ],
      "execution_count": null,
      "outputs": []
    },
    {
      "cell_type": "code",
      "metadata": {
        "colab": {
          "base_uri": "https://localhost:8080/",
          "height": 419
        },
        "id": "Bn2Z31j68mVP",
        "outputId": "8e8193b7-02d3-4aa2-e49e-9d521a9c3f02"
      },
      "source": [
        "announcement_data"
      ],
      "execution_count": null,
      "outputs": [
        {
          "output_type": "execute_result",
          "data": {
            "text/html": [
              "<div>\n",
              "<style scoped>\n",
              "    .dataframe tbody tr th:only-of-type {\n",
              "        vertical-align: middle;\n",
              "    }\n",
              "\n",
              "    .dataframe tbody tr th {\n",
              "        vertical-align: top;\n",
              "    }\n",
              "\n",
              "    .dataframe thead th {\n",
              "        text-align: right;\n",
              "    }\n",
              "</style>\n",
              "<table border=\"1\" class=\"dataframe\">\n",
              "  <thead>\n",
              "    <tr style=\"text-align: right;\">\n",
              "      <th></th>\n",
              "      <th>tweet</th>\n",
              "      <th>likes</th>\n",
              "      <th>date_posted</th>\n",
              "      <th>id</th>\n",
              "    </tr>\n",
              "  </thead>\n",
              "  <tbody>\n",
              "    <tr>\n",
              "      <th>0</th>\n",
              "      <td>#EuropeanSuperLeague #FIFA #GianniInfantino ES...</td>\n",
              "      <td>0</td>\n",
              "      <td>2021-05-20 23:44:04</td>\n",
              "      <td>1395525763277877251</td>\n",
              "    </tr>\n",
              "    <tr>\n",
              "      <th>1</th>\n",
              "      <td>Episode 46 - finally talking football! Did the...</td>\n",
              "      <td>0</td>\n",
              "      <td>2021-05-20 21:12:34</td>\n",
              "      <td>1395487638073888771</td>\n",
              "    </tr>\n",
              "    <tr>\n",
              "      <th>2</th>\n",
              "      <td>RT @paulnixey: Sport: more important than ever...</td>\n",
              "      <td>0</td>\n",
              "      <td>2021-05-20 19:36:33</td>\n",
              "      <td>1395463474893914112</td>\n",
              "    </tr>\n",
              "    <tr>\n",
              "      <th>3</th>\n",
              "      <td>Sport: more important than ever. \\n\\nPR: alway...</td>\n",
              "      <td>3</td>\n",
              "      <td>2021-05-20 19:32:42</td>\n",
              "      <td>1395462507041411073</td>\n",
              "    </tr>\n",
              "    <tr>\n",
              "      <th>4</th>\n",
              "      <td>. @PaulNixey and @KylieMcMullan write: Communi...</td>\n",
              "      <td>6</td>\n",
              "      <td>2021-05-20 19:30:30</td>\n",
              "      <td>1395461951518433282</td>\n",
              "    </tr>\n",
              "    <tr>\n",
              "      <th>...</th>\n",
              "      <td>...</td>\n",
              "      <td>...</td>\n",
              "      <td>...</td>\n",
              "      <td>...</td>\n",
              "    </tr>\n",
              "    <tr>\n",
              "      <th>995</th>\n",
              "      <td>It looks more than likely that @UEFAcom marque...</td>\n",
              "      <td>2</td>\n",
              "      <td>2021-05-06 12:18:06</td>\n",
              "      <td>1390279704482091008</td>\n",
              "    </tr>\n",
              "    <tr>\n",
              "      <th>996</th>\n",
              "      <td>UEFA are looking to agree a lenient sanction f...</td>\n",
              "      <td>255</td>\n",
              "      <td>2021-05-06 12:17:29</td>\n",
              "      <td>1390279549133463554</td>\n",
              "    </tr>\n",
              "    <tr>\n",
              "      <th>997</th>\n",
              "      <td>Chelsea &amp;amp; City final. Bring back the #Euro...</td>\n",
              "      <td>0</td>\n",
              "      <td>2021-05-06 10:39:57</td>\n",
              "      <td>1390255006708797441</td>\n",
              "    </tr>\n",
              "    <tr>\n",
              "      <th>998</th>\n",
              "      <td>RT @Ed74663303: @PeterStefanovi2 @rowanscott @...</td>\n",
              "      <td>0</td>\n",
              "      <td>2021-05-06 10:31:56</td>\n",
              "      <td>1390252987755507712</td>\n",
              "    </tr>\n",
              "    <tr>\n",
              "      <th>999</th>\n",
              "      <td>Manchester United boss Ole Gunnar Solskjaer ha...</td>\n",
              "      <td>0</td>\n",
              "      <td>2021-05-06 10:12:36</td>\n",
              "      <td>1390248122790686722</td>\n",
              "    </tr>\n",
              "  </tbody>\n",
              "</table>\n",
              "<p>1000 rows × 4 columns</p>\n",
              "</div>"
            ],
            "text/plain": [
              "                                                 tweet  ...                   id\n",
              "0    #EuropeanSuperLeague #FIFA #GianniInfantino ES...  ...  1395525763277877251\n",
              "1    Episode 46 - finally talking football! Did the...  ...  1395487638073888771\n",
              "2    RT @paulnixey: Sport: more important than ever...  ...  1395463474893914112\n",
              "3    Sport: more important than ever. \\n\\nPR: alway...  ...  1395462507041411073\n",
              "4    . @PaulNixey and @KylieMcMullan write: Communi...  ...  1395461951518433282\n",
              "..                                                 ...  ...                  ...\n",
              "995  It looks more than likely that @UEFAcom marque...  ...  1390279704482091008\n",
              "996  UEFA are looking to agree a lenient sanction f...  ...  1390279549133463554\n",
              "997  Chelsea &amp; City final. Bring back the #Euro...  ...  1390255006708797441\n",
              "998  RT @Ed74663303: @PeterStefanovi2 @rowanscott @...  ...  1390252987755507712\n",
              "999  Manchester United boss Ole Gunnar Solskjaer ha...  ...  1390248122790686722\n",
              "\n",
              "[1000 rows x 4 columns]"
            ]
          },
          "metadata": {
            "tags": []
          },
          "execution_count": 27
        }
      ]
    },
    {
      "cell_type": "code",
      "metadata": {
        "id": "Wu9016SO8mvw"
      },
      "source": [
        "announcement_data.to_csv('announcement_data.csv')"
      ],
      "execution_count": null,
      "outputs": []
    }
  ]
}