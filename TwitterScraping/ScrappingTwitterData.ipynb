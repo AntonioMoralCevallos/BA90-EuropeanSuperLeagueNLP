{
  "nbformat": 4,
  "nbformat_minor": 0,
  "metadata": {
    "colab": {
      "name": "ScrappingTwitterData.ipynb",
      "provenance": []
    },
    "kernelspec": {
      "name": "python3",
      "display_name": "Python 3.8.3 64-bit ('base': conda)"
    },
    "language_info": {
      "name": "python",
      "version": "3.8.3",
      "mimetype": "text/x-python",
      "codemirror_mode": {
        "name": "ipython",
        "version": 3
      },
      "pygments_lexer": "ipython3",
      "nbconvert_exporter": "python",
      "file_extension": ".py"
    },
    "interpreter": {
      "hash": "bacdf26ad233b22ff1cb926c9eb96cf5673268ba8d7652bc9273d93497b5357b"
    }
  },
  "cells": [
    {
      "cell_type": "markdown",
      "metadata": {
        "id": "XfuL-zzUABGB"
      },
      "source": [
        "## Scrapping Twitter Data\n",
        "In this notebook I will obtain the main dataset that I will use for analysis in this project. Initially looking to scrape tweets that include the #EuropeanSuperLeague that were tweeted between April 18th 2021 (the announcement of the league) and May 20th 2021. \n",
        "I believe this will give a good idea of what was the sentiment towards this new idea when it was announced to the world.\n",
        "\n",
        "The scrapping will be done using Twitter's own API and text data will be modified using Spacy. \n",
        "\n",
        "After being unable to retrieve twitter data from the initially planned dates, the analysis will focus on current sentiment towards the idea, with a limited amount of data. "
      ]
    },
    {
      "cell_type": "code",
      "metadata": {
        "id": "uteniPCs_7Cc"
      },
      "source": [
        "# Imports \n",
        "import pandas as pd\n",
        "import numpy as np\n"
      ],
      "execution_count": null,
      "outputs": []
    },
    {
      "cell_type": "code",
      "metadata": {
        "id": "wuhJyz6icZRT"
      },
      "source": [
        "consumer_key = \n",
        "consumer_secret = \n",
        "access_token = \n",
        "access_token_secret = "
      ],
      "execution_count": null,
      "outputs": []
    },
    {
      "cell_type": "code",
      "metadata": {
        "id": "6lRGYWTKcZRU"
      },
      "source": [
        "import tweepy"
      ],
      "execution_count": null,
      "outputs": []
    },
    {
      "cell_type": "code",
      "metadata": {
        "id": "KKnT-nRocZRU"
      },
      "source": [
        "auth = tweepy.OAuthHandler(consumer_key,consumer_secret)\n",
        "auth.set_access_token(access_token,access_token_secret)\n",
        "api = tweepy.API(auth)\n"
      ],
      "execution_count": null,
      "outputs": []
    },
    {
      "cell_type": "code",
      "metadata": {
        "id": "xDf1Z944cZRU"
      },
      "source": [
        "#dates must be in this format yyyyMMddHHmm\n",
        "b_date = '202104181200'\n",
        "e_date = '202105202359'"
      ],
      "execution_count": null,
      "outputs": []
    },
    {
      "cell_type": "code",
      "metadata": {
        "id": "mWOC61B4cZRW"
      },
      "source": [
        "t = api.search(enviroment='nlpanalysis',q ='#EuropeanSuperLeague lang:en -filter:retweets', count = 250, result_type = 'recent', tweet_mode = 'extended')"
      ],
      "execution_count": null,
      "outputs": []
    },
    {
      "cell_type": "code",
      "metadata": {
        "id": "kNN9MbAicZRW",
        "outputId": "1161cd31-46b0-42d7-af09-23a0b9feffe7"
      },
      "source": [
        "len(t)"
      ],
      "execution_count": null,
      "outputs": [
        {
          "output_type": "execute_result",
          "data": {
            "text/plain": [
              "17"
            ]
          },
          "metadata": {
            "tags": []
          },
          "execution_count": 70
        }
      ]
    },
    {
      "cell_type": "code",
      "metadata": {
        "id": "Tr9ymwUAcZRX",
        "outputId": "58aee26d-b2ab-4f7f-d4a8-3bb355761ec2"
      },
      "source": [
        "t[8].id"
      ],
      "execution_count": null,
      "outputs": [
        {
          "output_type": "execute_result",
          "data": {
            "text/plain": [
              "1418484509771763716"
            ]
          },
          "metadata": {
            "tags": []
          },
          "execution_count": 71
        }
      ]
    },
    {
      "cell_type": "code",
      "metadata": {
        "id": "yAQ-XJP1cZRX"
      },
      "source": [
        "full_text = []\n",
        "likes = []\n",
        "date = []\n",
        "tweet_id = []\n",
        "for tweet in t:\n",
        "    full_text.append(tweet.full_text)\n",
        "    likes.append(tweet.favorite_count)\n",
        "    date.append(tweet.created_at)\n",
        "    tweet_id.append(tweet.id)\n"
      ],
      "execution_count": null,
      "outputs": []
    },
    {
      "cell_type": "code",
      "metadata": {
        "id": "4KPeJ3xbcZRX"
      },
      "source": [
        "df = pd.DataFrame({'tweet':full_text,'likes': likes, 'date_posted' : date, 'id':tweet_id})"
      ],
      "execution_count": null,
      "outputs": []
    },
    {
      "cell_type": "code",
      "metadata": {
        "id": "M7l_kngscZRY",
        "outputId": "1527a599-b15b-43b7-d1ed-48afa6ea835a"
      },
      "source": [
        "df"
      ],
      "execution_count": null,
      "outputs": [
        {
          "output_type": "execute_result",
          "data": {
            "text/plain": [
              "                                                tweet  likes  \\\n",
              "0   A special thank you to @adamblaizelives, @domi...      5   \n",
              "1   @Ap3Journalism @TheUnitedWay99 @ManUnitedZone_...      2   \n",
              "2   @jimwaterson @BBC @Olympics I don’t disagree. ...      2   \n",
              "3   What a difference three months makes, since th...    182   \n",
              "4   I have to say those American #EuropeanSuperLea...      0   \n",
              "5   @SkySportsNews Still waiting for the ESL punis...      0   \n",
              "6   Still waiting for the ESL punishment to the Pr...      1   \n",
              "7   How could a CJEU ruling on the International S...      0   \n",
              "8   Many months ago 6 teams agreed to pay a fine #...     10   \n",
              "9   European Super League: Billionaires Want to Ma...      0   \n",
              "10  #NBAFinals are over.. #Olympics2021 are in a b...      0   \n",
              "11  ⚽ Social media has been a driver for the commo...      1   \n",
              "12  Why do I feel the breakaway teams who were sto...      0   \n",
              "13  @robot_lien Halo! here is your unroll: 🇪🇺 Key ...      0   \n",
              "14  Can't believe I am counting days special event...      8   \n",
              "15  #LaLiga join #UEFA and #FIFA in #EuropeanSuper...      0   \n",
              "16  To think #NUFC fans were actually appalled by ...     36   \n",
              "\n",
              "           date_posted                   id  \n",
              "0  2021-07-26 16:31:25  1419696873489813511  \n",
              "1  2021-07-26 09:05:21  1419584614813798407  \n",
              "2  2021-07-25 16:20:35  1419331756138840069  \n",
              "3  2021-07-25 10:50:10  1419248606721232897  \n",
              "4  2021-07-23 22:22:09  1418697971084840960  \n",
              "5  2021-07-23 12:57:57  1418555988463046657  \n",
              "6  2021-07-23 12:56:53  1418555717531881473  \n",
              "7  2021-07-23 09:01:03  1418496368222646272  \n",
              "8  2021-07-23 08:13:55  1418484509771763716  \n",
              "9  2021-07-23 06:00:40  1418450976017637378  \n",
              "10 2021-07-21 22:25:49  1417974119489056769  \n",
              "11 2021-07-21 11:45:18  1417812928368099333  \n",
              "12 2021-07-21 10:37:43  1417795919207141378  \n",
              "13 2021-07-21 09:50:07  1417783940367126529  \n",
              "14 2021-07-21 07:38:38  1417750852958314497  \n",
              "15 2021-07-19 22:41:42  1417253342980550660  \n",
              "16 2021-07-19 18:20:48  1417187685521895428  "
            ],
            "text/html": [
              "<div>\n",
              "<style scoped>\n",
              "    .dataframe tbody tr th:only-of-type {\n",
              "        vertical-align: middle;\n",
              "    }\n",
              "\n",
              "    .dataframe tbody tr th {\n",
              "        vertical-align: top;\n",
              "    }\n",
              "\n",
              "    .dataframe thead th {\n",
              "        text-align: right;\n",
              "    }\n",
              "</style>\n",
              "<table border=\"1\" class=\"dataframe\">\n",
              "  <thead>\n",
              "    <tr style=\"text-align: right;\">\n",
              "      <th></th>\n",
              "      <th>tweet</th>\n",
              "      <th>likes</th>\n",
              "      <th>date_posted</th>\n",
              "      <th>id</th>\n",
              "    </tr>\n",
              "  </thead>\n",
              "  <tbody>\n",
              "    <tr>\n",
              "      <th>0</th>\n",
              "      <td>A special thank you to @adamblaizelives, @domi...</td>\n",
              "      <td>5</td>\n",
              "      <td>2021-07-26 16:31:25</td>\n",
              "      <td>1419696873489813511</td>\n",
              "    </tr>\n",
              "    <tr>\n",
              "      <th>1</th>\n",
              "      <td>@Ap3Journalism @TheUnitedWay99 @ManUnitedZone_...</td>\n",
              "      <td>2</td>\n",
              "      <td>2021-07-26 09:05:21</td>\n",
              "      <td>1419584614813798407</td>\n",
              "    </tr>\n",
              "    <tr>\n",
              "      <th>2</th>\n",
              "      <td>@jimwaterson @BBC @Olympics I don’t disagree. ...</td>\n",
              "      <td>2</td>\n",
              "      <td>2021-07-25 16:20:35</td>\n",
              "      <td>1419331756138840069</td>\n",
              "    </tr>\n",
              "    <tr>\n",
              "      <th>3</th>\n",
              "      <td>What a difference three months makes, since th...</td>\n",
              "      <td>182</td>\n",
              "      <td>2021-07-25 10:50:10</td>\n",
              "      <td>1419248606721232897</td>\n",
              "    </tr>\n",
              "    <tr>\n",
              "      <th>4</th>\n",
              "      <td>I have to say those American #EuropeanSuperLea...</td>\n",
              "      <td>0</td>\n",
              "      <td>2021-07-23 22:22:09</td>\n",
              "      <td>1418697971084840960</td>\n",
              "    </tr>\n",
              "    <tr>\n",
              "      <th>5</th>\n",
              "      <td>@SkySportsNews Still waiting for the ESL punis...</td>\n",
              "      <td>0</td>\n",
              "      <td>2021-07-23 12:57:57</td>\n",
              "      <td>1418555988463046657</td>\n",
              "    </tr>\n",
              "    <tr>\n",
              "      <th>6</th>\n",
              "      <td>Still waiting for the ESL punishment to the Pr...</td>\n",
              "      <td>1</td>\n",
              "      <td>2021-07-23 12:56:53</td>\n",
              "      <td>1418555717531881473</td>\n",
              "    </tr>\n",
              "    <tr>\n",
              "      <th>7</th>\n",
              "      <td>How could a CJEU ruling on the International S...</td>\n",
              "      <td>0</td>\n",
              "      <td>2021-07-23 09:01:03</td>\n",
              "      <td>1418496368222646272</td>\n",
              "    </tr>\n",
              "    <tr>\n",
              "      <th>8</th>\n",
              "      <td>Many months ago 6 teams agreed to pay a fine #...</td>\n",
              "      <td>10</td>\n",
              "      <td>2021-07-23 08:13:55</td>\n",
              "      <td>1418484509771763716</td>\n",
              "    </tr>\n",
              "    <tr>\n",
              "      <th>9</th>\n",
              "      <td>European Super League: Billionaires Want to Ma...</td>\n",
              "      <td>0</td>\n",
              "      <td>2021-07-23 06:00:40</td>\n",
              "      <td>1418450976017637378</td>\n",
              "    </tr>\n",
              "    <tr>\n",
              "      <th>10</th>\n",
              "      <td>#NBAFinals are over.. #Olympics2021 are in a b...</td>\n",
              "      <td>0</td>\n",
              "      <td>2021-07-21 22:25:49</td>\n",
              "      <td>1417974119489056769</td>\n",
              "    </tr>\n",
              "    <tr>\n",
              "      <th>11</th>\n",
              "      <td>⚽ Social media has been a driver for the commo...</td>\n",
              "      <td>1</td>\n",
              "      <td>2021-07-21 11:45:18</td>\n",
              "      <td>1417812928368099333</td>\n",
              "    </tr>\n",
              "    <tr>\n",
              "      <th>12</th>\n",
              "      <td>Why do I feel the breakaway teams who were sto...</td>\n",
              "      <td>0</td>\n",
              "      <td>2021-07-21 10:37:43</td>\n",
              "      <td>1417795919207141378</td>\n",
              "    </tr>\n",
              "    <tr>\n",
              "      <th>13</th>\n",
              "      <td>@robot_lien Halo! here is your unroll: 🇪🇺 Key ...</td>\n",
              "      <td>0</td>\n",
              "      <td>2021-07-21 09:50:07</td>\n",
              "      <td>1417783940367126529</td>\n",
              "    </tr>\n",
              "    <tr>\n",
              "      <th>14</th>\n",
              "      <td>Can't believe I am counting days special event...</td>\n",
              "      <td>8</td>\n",
              "      <td>2021-07-21 07:38:38</td>\n",
              "      <td>1417750852958314497</td>\n",
              "    </tr>\n",
              "    <tr>\n",
              "      <th>15</th>\n",
              "      <td>#LaLiga join #UEFA and #FIFA in #EuropeanSuper...</td>\n",
              "      <td>0</td>\n",
              "      <td>2021-07-19 22:41:42</td>\n",
              "      <td>1417253342980550660</td>\n",
              "    </tr>\n",
              "    <tr>\n",
              "      <th>16</th>\n",
              "      <td>To think #NUFC fans were actually appalled by ...</td>\n",
              "      <td>36</td>\n",
              "      <td>2021-07-19 18:20:48</td>\n",
              "      <td>1417187685521895428</td>\n",
              "    </tr>\n",
              "  </tbody>\n",
              "</table>\n",
              "</div>"
            ]
          },
          "metadata": {
            "tags": []
          },
          "execution_count": 75
        }
      ]
    },
    {
      "cell_type": "code",
      "metadata": {
        "id": "f7clvfz0cZRZ",
        "outputId": "04d0a63b-272c-4d64-9f36-0a4beac4eae2"
      },
      "source": [
        "t_1[0].full_text"
      ],
      "execution_count": null,
      "outputs": [
        {
          "output_type": "execute_result",
          "data": {
            "text/plain": [
              "'A special thank you to @adamblaizelives, @dominictaylor6_, @JacobRanson27 and @MAAjournalism for the interviews! \\n\\n#Arsenal #Afc #ManchesterUnited #Mufc #Chelsea #Liverpool #ManchesterCity #Tottenham #Europeansuperleague #SuperLeague'"
            ]
          },
          "metadata": {
            "tags": []
          },
          "execution_count": 78
        }
      ]
    },
    {
      "cell_type": "code",
      "metadata": {
        "id": "N_jkm6x-cZRZ"
      },
      "source": [
        "t1 = api.search_30_day(environment_name='nlpanalysis',query ='#EuropeanSuperLeague lang:en', maxResults = 100)"
      ],
      "execution_count": null,
      "outputs": []
    },
    {
      "cell_type": "code",
      "metadata": {
        "id": "3sb1yZIicZRZ",
        "outputId": "1d5f299e-7eb6-4548-8287-e8a7caecfdee"
      },
      "source": [
        "len(t1)"
      ],
      "execution_count": null,
      "outputs": [
        {
          "output_type": "execute_result",
          "data": {
            "text/plain": [
              "100"
            ]
          },
          "metadata": {
            "tags": []
          },
          "execution_count": 87
        }
      ]
    },
    {
      "cell_type": "code",
      "metadata": {
        "id": "GJ-XpOZ6cZRa"
      },
      "source": [
        "text = []\n",
        "likes2 = []\n",
        "dates = []\n",
        "for i in t1:\n",
        "    text.append(i.text)\n",
        "    likes2.append(i.favorite_count)\n",
        "    dates.append(i.created_at)\n"
      ],
      "execution_count": null,
      "outputs": []
    },
    {
      "cell_type": "code",
      "metadata": {
        "id": "BG_73gv2cZRb"
      },
      "source": [
        "df2 = pd.DataFrame({'tweet':text,'likes':likes2,'date_posted':dates})"
      ],
      "execution_count": null,
      "outputs": []
    },
    {
      "cell_type": "code",
      "metadata": {
        "id": "RSuC_5V8cZRb"
      },
      "source": [
        "df2.to_csv('First_set.csv')"
      ],
      "execution_count": null,
      "outputs": []
    },
    {
      "cell_type": "code",
      "metadata": {
        "id": "jaopEHJjcZRb"
      },
      "source": [
        "data = pd.read_csv('First_set.csv')"
      ],
      "execution_count": null,
      "outputs": []
    },
    {
      "cell_type": "code",
      "metadata": {
        "id": "LziV5tnycZRb"
      },
      "source": [
        "data.drop('Unnamed: 0',axis=1,inplace=True)"
      ],
      "execution_count": null,
      "outputs": []
    },
    {
      "cell_type": "code",
      "metadata": {
        "id": "qHtefLUEcZRb",
        "outputId": "2ca06fa3-3679-4836-f718-ca884563eb81"
      },
      "source": [
        "data"
      ],
      "execution_count": null,
      "outputs": [
        {
          "output_type": "execute_result",
          "data": {
            "text/plain": [
              "                                                tweet  likes  \\\n",
              "0   RT @adamblaizelives: @Ap3Journalism @TheUnited...      0   \n",
              "1   A special thank you to @adamblaizelives, @domi...      5   \n",
              "2   @Ap3Journalism @TheUnitedWay99 @ManUnitedZone_...      2   \n",
              "3   RT @org_scp: What a difference three months ma...      0   \n",
              "4   RT @org_scp: What a difference three months ma...      0   \n",
              "..                                                ...    ...   \n",
              "95  RT @PaulGallant11: To @OliverDowden our Takeov...      0   \n",
              "96  To @OliverDowden our Takeover \\nWe were in Lon...     17   \n",
              "97  RT @stevetibbett: new podcast out today on the...      0   \n",
              "98  RT @Anthony04201636: @theMadridZone @elconfide...      0   \n",
              "99  RT @stevetibbett: new podcast out today on the...      0   \n",
              "\n",
              "            date_posted  \n",
              "0   2021-07-26 16:37:07  \n",
              "1   2021-07-26 16:31:25  \n",
              "2   2021-07-26 09:05:21  \n",
              "3   2021-07-25 22:04:29  \n",
              "4   2021-07-25 19:20:56  \n",
              "..                  ...  \n",
              "95  2021-07-17 07:35:15  \n",
              "96  2021-07-17 07:01:28  \n",
              "97  2021-07-16 13:35:22  \n",
              "98  2021-07-16 10:12:15  \n",
              "99  2021-07-16 08:50:34  \n",
              "\n",
              "[100 rows x 3 columns]"
            ],
            "text/html": [
              "<div>\n",
              "<style scoped>\n",
              "    .dataframe tbody tr th:only-of-type {\n",
              "        vertical-align: middle;\n",
              "    }\n",
              "\n",
              "    .dataframe tbody tr th {\n",
              "        vertical-align: top;\n",
              "    }\n",
              "\n",
              "    .dataframe thead th {\n",
              "        text-align: right;\n",
              "    }\n",
              "</style>\n",
              "<table border=\"1\" class=\"dataframe\">\n",
              "  <thead>\n",
              "    <tr style=\"text-align: right;\">\n",
              "      <th></th>\n",
              "      <th>tweet</th>\n",
              "      <th>likes</th>\n",
              "      <th>date_posted</th>\n",
              "    </tr>\n",
              "  </thead>\n",
              "  <tbody>\n",
              "    <tr>\n",
              "      <th>0</th>\n",
              "      <td>RT @adamblaizelives: @Ap3Journalism @TheUnited...</td>\n",
              "      <td>0</td>\n",
              "      <td>2021-07-26 16:37:07</td>\n",
              "    </tr>\n",
              "    <tr>\n",
              "      <th>1</th>\n",
              "      <td>A special thank you to @adamblaizelives, @domi...</td>\n",
              "      <td>5</td>\n",
              "      <td>2021-07-26 16:31:25</td>\n",
              "    </tr>\n",
              "    <tr>\n",
              "      <th>2</th>\n",
              "      <td>@Ap3Journalism @TheUnitedWay99 @ManUnitedZone_...</td>\n",
              "      <td>2</td>\n",
              "      <td>2021-07-26 09:05:21</td>\n",
              "    </tr>\n",
              "    <tr>\n",
              "      <th>3</th>\n",
              "      <td>RT @org_scp: What a difference three months ma...</td>\n",
              "      <td>0</td>\n",
              "      <td>2021-07-25 22:04:29</td>\n",
              "    </tr>\n",
              "    <tr>\n",
              "      <th>4</th>\n",
              "      <td>RT @org_scp: What a difference three months ma...</td>\n",
              "      <td>0</td>\n",
              "      <td>2021-07-25 19:20:56</td>\n",
              "    </tr>\n",
              "    <tr>\n",
              "      <th>...</th>\n",
              "      <td>...</td>\n",
              "      <td>...</td>\n",
              "      <td>...</td>\n",
              "    </tr>\n",
              "    <tr>\n",
              "      <th>95</th>\n",
              "      <td>RT @PaulGallant11: To @OliverDowden our Takeov...</td>\n",
              "      <td>0</td>\n",
              "      <td>2021-07-17 07:35:15</td>\n",
              "    </tr>\n",
              "    <tr>\n",
              "      <th>96</th>\n",
              "      <td>To @OliverDowden our Takeover \\nWe were in Lon...</td>\n",
              "      <td>17</td>\n",
              "      <td>2021-07-17 07:01:28</td>\n",
              "    </tr>\n",
              "    <tr>\n",
              "      <th>97</th>\n",
              "      <td>RT @stevetibbett: new podcast out today on the...</td>\n",
              "      <td>0</td>\n",
              "      <td>2021-07-16 13:35:22</td>\n",
              "    </tr>\n",
              "    <tr>\n",
              "      <th>98</th>\n",
              "      <td>RT @Anthony04201636: @theMadridZone @elconfide...</td>\n",
              "      <td>0</td>\n",
              "      <td>2021-07-16 10:12:15</td>\n",
              "    </tr>\n",
              "    <tr>\n",
              "      <th>99</th>\n",
              "      <td>RT @stevetibbett: new podcast out today on the...</td>\n",
              "      <td>0</td>\n",
              "      <td>2021-07-16 08:50:34</td>\n",
              "    </tr>\n",
              "  </tbody>\n",
              "</table>\n",
              "<p>100 rows × 3 columns</p>\n",
              "</div>"
            ]
          },
          "metadata": {
            "tags": []
          },
          "execution_count": 9
        }
      ]
    },
    {
      "cell_type": "code",
      "metadata": {
        "id": "8XYqn2QzcZRc"
      },
      "source": [
        "t2 = api.search_30_day(environment_name='nlpanalysis',query ='#EuropeanSuperLeague lang:en', maxResults = 100, toDate = 202107160850)"
      ],
      "execution_count": null,
      "outputs": []
    },
    {
      "cell_type": "code",
      "metadata": {
        "id": "cNwXsubpcZRc",
        "outputId": "f83da1f9-6557-4076-8075-2c80d0b140dc"
      },
      "source": [
        "len(t2)"
      ],
      "execution_count": null,
      "outputs": [
        {
          "output_type": "execute_result",
          "data": {
            "text/plain": [
              "100"
            ]
          },
          "metadata": {
            "tags": []
          },
          "execution_count": 12
        }
      ]
    },
    {
      "cell_type": "code",
      "metadata": {
        "id": "g8KeH7A4cZRd"
      },
      "source": [
        "text = []\n",
        "likes2 = []\n",
        "dates = []\n",
        "for i in t2:\n",
        "    text.append(i.text)\n",
        "    likes2.append(i.favorite_count)\n",
        "    dates.append(i.created_at)"
      ],
      "execution_count": null,
      "outputs": []
    },
    {
      "cell_type": "code",
      "metadata": {
        "id": "Y2EaCJ21cZRd"
      },
      "source": [
        "to_add = pd.DataFrame({'tweet':text,'likes':likes2,'date_posted':dates})"
      ],
      "execution_count": null,
      "outputs": []
    },
    {
      "cell_type": "code",
      "metadata": {
        "id": "pfm6O1MwcZRd",
        "outputId": "7f2c79bd-d227-4106-98bd-e755c0cd4593"
      },
      "source": [
        "to_add"
      ],
      "execution_count": null,
      "outputs": [
        {
          "output_type": "execute_result",
          "data": {
            "text/plain": [
              "                                                tweet  likes  \\\n",
              "0   @theMadridZone @elconfidencial If this is Uefa...      9   \n",
              "1   Italy makes bid to host 2028 european cup or 2...      0   \n",
              "2   RT @europeangreens: Feeling betrayed by your f...      0   \n",
              "3   RT @jake_pugh: #europeansuperleague What busin...      0   \n",
              "4   Israel is not Jewish, Israel is Zionist #movem...      1   \n",
              "..                                                ...    ...   \n",
              "95  The 5 days of the #europeansuperleague showed ...      4   \n",
              "96  RT @tvukzone: Sky commission #EuropeanSuperLea...      0   \n",
              "97  RT @tvukzone: Sky Documentaries commission #Eu...      0   \n",
              "98  Sky commission #EuropeanSuperLeague documentar...      5   \n",
              "99  Check out my Gig on Fiverr: do excel data entr...      0   \n",
              "\n",
              "           date_posted  \n",
              "0  2021-07-16 07:59:43  \n",
              "1  2021-07-16 06:53:27  \n",
              "2  2021-07-15 20:31:16  \n",
              "3  2021-07-15 19:44:32  \n",
              "4  2021-07-15 13:19:17  \n",
              "..                 ...  \n",
              "95 2021-06-29 20:59:30  \n",
              "96 2021-06-29 20:05:55  \n",
              "97 2021-06-29 20:02:45  \n",
              "98 2021-06-29 20:00:01  \n",
              "99 2021-06-29 18:59:37  \n",
              "\n",
              "[100 rows x 3 columns]"
            ],
            "text/html": [
              "<div>\n",
              "<style scoped>\n",
              "    .dataframe tbody tr th:only-of-type {\n",
              "        vertical-align: middle;\n",
              "    }\n",
              "\n",
              "    .dataframe tbody tr th {\n",
              "        vertical-align: top;\n",
              "    }\n",
              "\n",
              "    .dataframe thead th {\n",
              "        text-align: right;\n",
              "    }\n",
              "</style>\n",
              "<table border=\"1\" class=\"dataframe\">\n",
              "  <thead>\n",
              "    <tr style=\"text-align: right;\">\n",
              "      <th></th>\n",
              "      <th>tweet</th>\n",
              "      <th>likes</th>\n",
              "      <th>date_posted</th>\n",
              "    </tr>\n",
              "  </thead>\n",
              "  <tbody>\n",
              "    <tr>\n",
              "      <th>0</th>\n",
              "      <td>@theMadridZone @elconfidencial If this is Uefa...</td>\n",
              "      <td>9</td>\n",
              "      <td>2021-07-16 07:59:43</td>\n",
              "    </tr>\n",
              "    <tr>\n",
              "      <th>1</th>\n",
              "      <td>Italy makes bid to host 2028 european cup or 2...</td>\n",
              "      <td>0</td>\n",
              "      <td>2021-07-16 06:53:27</td>\n",
              "    </tr>\n",
              "    <tr>\n",
              "      <th>2</th>\n",
              "      <td>RT @europeangreens: Feeling betrayed by your f...</td>\n",
              "      <td>0</td>\n",
              "      <td>2021-07-15 20:31:16</td>\n",
              "    </tr>\n",
              "    <tr>\n",
              "      <th>3</th>\n",
              "      <td>RT @jake_pugh: #europeansuperleague What busin...</td>\n",
              "      <td>0</td>\n",
              "      <td>2021-07-15 19:44:32</td>\n",
              "    </tr>\n",
              "    <tr>\n",
              "      <th>4</th>\n",
              "      <td>Israel is not Jewish, Israel is Zionist #movem...</td>\n",
              "      <td>1</td>\n",
              "      <td>2021-07-15 13:19:17</td>\n",
              "    </tr>\n",
              "    <tr>\n",
              "      <th>...</th>\n",
              "      <td>...</td>\n",
              "      <td>...</td>\n",
              "      <td>...</td>\n",
              "    </tr>\n",
              "    <tr>\n",
              "      <th>95</th>\n",
              "      <td>The 5 days of the #europeansuperleague showed ...</td>\n",
              "      <td>4</td>\n",
              "      <td>2021-06-29 20:59:30</td>\n",
              "    </tr>\n",
              "    <tr>\n",
              "      <th>96</th>\n",
              "      <td>RT @tvukzone: Sky commission #EuropeanSuperLea...</td>\n",
              "      <td>0</td>\n",
              "      <td>2021-06-29 20:05:55</td>\n",
              "    </tr>\n",
              "    <tr>\n",
              "      <th>97</th>\n",
              "      <td>RT @tvukzone: Sky Documentaries commission #Eu...</td>\n",
              "      <td>0</td>\n",
              "      <td>2021-06-29 20:02:45</td>\n",
              "    </tr>\n",
              "    <tr>\n",
              "      <th>98</th>\n",
              "      <td>Sky commission #EuropeanSuperLeague documentar...</td>\n",
              "      <td>5</td>\n",
              "      <td>2021-06-29 20:00:01</td>\n",
              "    </tr>\n",
              "    <tr>\n",
              "      <th>99</th>\n",
              "      <td>Check out my Gig on Fiverr: do excel data entr...</td>\n",
              "      <td>0</td>\n",
              "      <td>2021-06-29 18:59:37</td>\n",
              "    </tr>\n",
              "  </tbody>\n",
              "</table>\n",
              "<p>100 rows × 3 columns</p>\n",
              "</div>"
            ]
          },
          "metadata": {
            "tags": []
          },
          "execution_count": 15
        }
      ]
    },
    {
      "cell_type": "code",
      "metadata": {
        "id": "un3KOea-cZRd"
      },
      "source": [
        "test = pd.concat([data,to_add])"
      ],
      "execution_count": null,
      "outputs": []
    },
    {
      "cell_type": "code",
      "metadata": {
        "id": "RedMkiF9cZRe",
        "outputId": "d16e5c9c-5a23-43e4-e230-c043136dcc6e"
      },
      "source": [
        "test"
      ],
      "execution_count": null,
      "outputs": [
        {
          "output_type": "execute_result",
          "data": {
            "text/plain": [
              "                                                tweet  likes  \\\n",
              "0   RT @adamblaizelives: @Ap3Journalism @TheUnited...      0   \n",
              "1   A special thank you to @adamblaizelives, @domi...      5   \n",
              "2   @Ap3Journalism @TheUnitedWay99 @ManUnitedZone_...      2   \n",
              "3   RT @org_scp: What a difference three months ma...      0   \n",
              "4   RT @org_scp: What a difference three months ma...      0   \n",
              "..                                                ...    ...   \n",
              "95  The 5 days of the #europeansuperleague showed ...      4   \n",
              "96  RT @tvukzone: Sky commission #EuropeanSuperLea...      0   \n",
              "97  RT @tvukzone: Sky Documentaries commission #Eu...      0   \n",
              "98  Sky commission #EuropeanSuperLeague documentar...      5   \n",
              "99  Check out my Gig on Fiverr: do excel data entr...      0   \n",
              "\n",
              "            date_posted  \n",
              "0   2021-07-26 16:37:07  \n",
              "1   2021-07-26 16:31:25  \n",
              "2   2021-07-26 09:05:21  \n",
              "3   2021-07-25 22:04:29  \n",
              "4   2021-07-25 19:20:56  \n",
              "..                  ...  \n",
              "95  2021-06-29 20:59:30  \n",
              "96  2021-06-29 20:05:55  \n",
              "97  2021-06-29 20:02:45  \n",
              "98  2021-06-29 20:00:01  \n",
              "99  2021-06-29 18:59:37  \n",
              "\n",
              "[200 rows x 3 columns]"
            ],
            "text/html": [
              "<div>\n",
              "<style scoped>\n",
              "    .dataframe tbody tr th:only-of-type {\n",
              "        vertical-align: middle;\n",
              "    }\n",
              "\n",
              "    .dataframe tbody tr th {\n",
              "        vertical-align: top;\n",
              "    }\n",
              "\n",
              "    .dataframe thead th {\n",
              "        text-align: right;\n",
              "    }\n",
              "</style>\n",
              "<table border=\"1\" class=\"dataframe\">\n",
              "  <thead>\n",
              "    <tr style=\"text-align: right;\">\n",
              "      <th></th>\n",
              "      <th>tweet</th>\n",
              "      <th>likes</th>\n",
              "      <th>date_posted</th>\n",
              "    </tr>\n",
              "  </thead>\n",
              "  <tbody>\n",
              "    <tr>\n",
              "      <th>0</th>\n",
              "      <td>RT @adamblaizelives: @Ap3Journalism @TheUnited...</td>\n",
              "      <td>0</td>\n",
              "      <td>2021-07-26 16:37:07</td>\n",
              "    </tr>\n",
              "    <tr>\n",
              "      <th>1</th>\n",
              "      <td>A special thank you to @adamblaizelives, @domi...</td>\n",
              "      <td>5</td>\n",
              "      <td>2021-07-26 16:31:25</td>\n",
              "    </tr>\n",
              "    <tr>\n",
              "      <th>2</th>\n",
              "      <td>@Ap3Journalism @TheUnitedWay99 @ManUnitedZone_...</td>\n",
              "      <td>2</td>\n",
              "      <td>2021-07-26 09:05:21</td>\n",
              "    </tr>\n",
              "    <tr>\n",
              "      <th>3</th>\n",
              "      <td>RT @org_scp: What a difference three months ma...</td>\n",
              "      <td>0</td>\n",
              "      <td>2021-07-25 22:04:29</td>\n",
              "    </tr>\n",
              "    <tr>\n",
              "      <th>4</th>\n",
              "      <td>RT @org_scp: What a difference three months ma...</td>\n",
              "      <td>0</td>\n",
              "      <td>2021-07-25 19:20:56</td>\n",
              "    </tr>\n",
              "    <tr>\n",
              "      <th>...</th>\n",
              "      <td>...</td>\n",
              "      <td>...</td>\n",
              "      <td>...</td>\n",
              "    </tr>\n",
              "    <tr>\n",
              "      <th>95</th>\n",
              "      <td>The 5 days of the #europeansuperleague showed ...</td>\n",
              "      <td>4</td>\n",
              "      <td>2021-06-29 20:59:30</td>\n",
              "    </tr>\n",
              "    <tr>\n",
              "      <th>96</th>\n",
              "      <td>RT @tvukzone: Sky commission #EuropeanSuperLea...</td>\n",
              "      <td>0</td>\n",
              "      <td>2021-06-29 20:05:55</td>\n",
              "    </tr>\n",
              "    <tr>\n",
              "      <th>97</th>\n",
              "      <td>RT @tvukzone: Sky Documentaries commission #Eu...</td>\n",
              "      <td>0</td>\n",
              "      <td>2021-06-29 20:02:45</td>\n",
              "    </tr>\n",
              "    <tr>\n",
              "      <th>98</th>\n",
              "      <td>Sky commission #EuropeanSuperLeague documentar...</td>\n",
              "      <td>5</td>\n",
              "      <td>2021-06-29 20:00:01</td>\n",
              "    </tr>\n",
              "    <tr>\n",
              "      <th>99</th>\n",
              "      <td>Check out my Gig on Fiverr: do excel data entr...</td>\n",
              "      <td>0</td>\n",
              "      <td>2021-06-29 18:59:37</td>\n",
              "    </tr>\n",
              "  </tbody>\n",
              "</table>\n",
              "<p>200 rows × 3 columns</p>\n",
              "</div>"
            ]
          },
          "metadata": {
            "tags": []
          },
          "execution_count": 20
        }
      ]
    },
    {
      "cell_type": "code",
      "metadata": {
        "id": "lbh5mTracZRe"
      },
      "source": [
        "t3 = api.search_30_day(environment_name='nlpanalysis',query ='#EuropeanSuperLeague lang:en', maxResults = 100, toDate = 202106291859)"
      ],
      "execution_count": null,
      "outputs": []
    },
    {
      "cell_type": "code",
      "metadata": {
        "id": "HoAc54qbcZRe",
        "outputId": "4b815783-5918-4181-a60e-580a4f42c6a3"
      },
      "source": [
        "len(t3)"
      ],
      "execution_count": null,
      "outputs": [
        {
          "output_type": "execute_result",
          "data": {
            "text/plain": [
              "19"
            ]
          },
          "metadata": {
            "tags": []
          },
          "execution_count": 32
        }
      ]
    },
    {
      "cell_type": "code",
      "metadata": {
        "id": "ZTC9IUkCcZRe"
      },
      "source": [
        "text = []\n",
        "likes3 = []\n",
        "dates3 = []\n",
        "for i in t3:\n",
        "    text3.append(i.text)\n",
        "    likes3.append(i.favorite_count)\n",
        "    dates3.append(i.created_at)"
      ],
      "execution_count": null,
      "outputs": []
    },
    {
      "cell_type": "code",
      "metadata": {
        "id": "13zNzICPcZRf"
      },
      "source": [
        "to_add2 = pd.DataFrame({'tweet':text3,'likes':likes3,'date_posted':dates3})"
      ],
      "execution_count": null,
      "outputs": []
    },
    {
      "cell_type": "code",
      "metadata": {
        "id": "YOtS2lY_cZRf",
        "outputId": "a8915747-d17a-4beb-c198-6267fc2d6237"
      },
      "source": [
        "to_add2"
      ],
      "execution_count": null,
      "outputs": [
        {
          "output_type": "execute_result",
          "data": {
            "text/plain": [
              "                                                tweet  likes  \\\n",
              "0   Check out my Gig on Fiverr: do data entry, web...      2   \n",
              "1   RT @tvukzone: Sky Documentaries commission #Eu...      0   \n",
              "2   Sky Documentaries commission #EuropeanSuperLea...      1   \n",
              "3   RT @tvukzone: NEW: Sky Documentaries commissio...      0   \n",
              "4   NEW: Sky Documentaries commission #EuropeanSup...      0   \n",
              "5   #LiverpoolFC #EuropeanSuperLeague #FSG Liverpo...      0   \n",
              "6   #EuropeanSuperLeague’s Demise To Be Subject Of...      0   \n",
              "7   Sky announces new documentary on the rise and ...      2   \n",
              "8   Sky Documentaries to air European Super League...      3   \n",
              "9   As England aims to progress further in #Euro20...      3   \n",
              "10  #EuropeanSuperLeague Documentary Heads to Sky ...      0   \n",
              "11  Still raw and bewildering for most of us - but...      0   \n",
              "12  RT @davez2010: Deduct points, relegate, ban al...      0   \n",
              "13  It's nearly July and some people still have th...      2   \n",
              "14  European Super League: What history can teach ...      0   \n",
              "15  RT @sofiartmedia: EURO 2020-2021 UEFA European...      0   \n",
              "16  RT @sofiartmedia: EURO 2020-2021 UEFA European...      0   \n",
              "17  \"We are not excluding anyone, but everyone can...      0   \n",
              "18  RT @BasherNafiz: Jesse Lingard at the ballon d...      0   \n",
              "\n",
              "           date_posted  \n",
              "0  2021-06-29 18:58:12  \n",
              "1  2021-06-29 16:34:02  \n",
              "2  2021-06-29 16:30:00  \n",
              "3  2021-06-29 13:07:09  \n",
              "4  2021-06-29 13:00:01  \n",
              "5  2021-06-29 12:00:13  \n",
              "6  2021-06-29 10:53:09  \n",
              "7  2021-06-29 10:40:02  \n",
              "8  2021-06-29 10:36:06  \n",
              "9  2021-06-29 10:33:26  \n",
              "10 2021-06-29 10:03:07  \n",
              "11 2021-06-29 08:43:30  \n",
              "12 2021-06-28 19:54:32  \n",
              "13 2021-06-28 15:42:33  \n",
              "14 2021-06-27 08:30:09  \n",
              "15 2021-06-26 09:10:20  \n",
              "16 2021-06-26 09:10:16  \n",
              "17 2021-06-26 06:47:06  \n",
              "18 2021-06-26 04:43:32  "
            ],
            "text/html": [
              "<div>\n",
              "<style scoped>\n",
              "    .dataframe tbody tr th:only-of-type {\n",
              "        vertical-align: middle;\n",
              "    }\n",
              "\n",
              "    .dataframe tbody tr th {\n",
              "        vertical-align: top;\n",
              "    }\n",
              "\n",
              "    .dataframe thead th {\n",
              "        text-align: right;\n",
              "    }\n",
              "</style>\n",
              "<table border=\"1\" class=\"dataframe\">\n",
              "  <thead>\n",
              "    <tr style=\"text-align: right;\">\n",
              "      <th></th>\n",
              "      <th>tweet</th>\n",
              "      <th>likes</th>\n",
              "      <th>date_posted</th>\n",
              "    </tr>\n",
              "  </thead>\n",
              "  <tbody>\n",
              "    <tr>\n",
              "      <th>0</th>\n",
              "      <td>Check out my Gig on Fiverr: do data entry, web...</td>\n",
              "      <td>2</td>\n",
              "      <td>2021-06-29 18:58:12</td>\n",
              "    </tr>\n",
              "    <tr>\n",
              "      <th>1</th>\n",
              "      <td>RT @tvukzone: Sky Documentaries commission #Eu...</td>\n",
              "      <td>0</td>\n",
              "      <td>2021-06-29 16:34:02</td>\n",
              "    </tr>\n",
              "    <tr>\n",
              "      <th>2</th>\n",
              "      <td>Sky Documentaries commission #EuropeanSuperLea...</td>\n",
              "      <td>1</td>\n",
              "      <td>2021-06-29 16:30:00</td>\n",
              "    </tr>\n",
              "    <tr>\n",
              "      <th>3</th>\n",
              "      <td>RT @tvukzone: NEW: Sky Documentaries commissio...</td>\n",
              "      <td>0</td>\n",
              "      <td>2021-06-29 13:07:09</td>\n",
              "    </tr>\n",
              "    <tr>\n",
              "      <th>4</th>\n",
              "      <td>NEW: Sky Documentaries commission #EuropeanSup...</td>\n",
              "      <td>0</td>\n",
              "      <td>2021-06-29 13:00:01</td>\n",
              "    </tr>\n",
              "    <tr>\n",
              "      <th>5</th>\n",
              "      <td>#LiverpoolFC #EuropeanSuperLeague #FSG Liverpo...</td>\n",
              "      <td>0</td>\n",
              "      <td>2021-06-29 12:00:13</td>\n",
              "    </tr>\n",
              "    <tr>\n",
              "      <th>6</th>\n",
              "      <td>#EuropeanSuperLeague’s Demise To Be Subject Of...</td>\n",
              "      <td>0</td>\n",
              "      <td>2021-06-29 10:53:09</td>\n",
              "    </tr>\n",
              "    <tr>\n",
              "      <th>7</th>\n",
              "      <td>Sky announces new documentary on the rise and ...</td>\n",
              "      <td>2</td>\n",
              "      <td>2021-06-29 10:40:02</td>\n",
              "    </tr>\n",
              "    <tr>\n",
              "      <th>8</th>\n",
              "      <td>Sky Documentaries to air European Super League...</td>\n",
              "      <td>3</td>\n",
              "      <td>2021-06-29 10:36:06</td>\n",
              "    </tr>\n",
              "    <tr>\n",
              "      <th>9</th>\n",
              "      <td>As England aims to progress further in #Euro20...</td>\n",
              "      <td>3</td>\n",
              "      <td>2021-06-29 10:33:26</td>\n",
              "    </tr>\n",
              "    <tr>\n",
              "      <th>10</th>\n",
              "      <td>#EuropeanSuperLeague Documentary Heads to Sky ...</td>\n",
              "      <td>0</td>\n",
              "      <td>2021-06-29 10:03:07</td>\n",
              "    </tr>\n",
              "    <tr>\n",
              "      <th>11</th>\n",
              "      <td>Still raw and bewildering for most of us - but...</td>\n",
              "      <td>0</td>\n",
              "      <td>2021-06-29 08:43:30</td>\n",
              "    </tr>\n",
              "    <tr>\n",
              "      <th>12</th>\n",
              "      <td>RT @davez2010: Deduct points, relegate, ban al...</td>\n",
              "      <td>0</td>\n",
              "      <td>2021-06-28 19:54:32</td>\n",
              "    </tr>\n",
              "    <tr>\n",
              "      <th>13</th>\n",
              "      <td>It's nearly July and some people still have th...</td>\n",
              "      <td>2</td>\n",
              "      <td>2021-06-28 15:42:33</td>\n",
              "    </tr>\n",
              "    <tr>\n",
              "      <th>14</th>\n",
              "      <td>European Super League: What history can teach ...</td>\n",
              "      <td>0</td>\n",
              "      <td>2021-06-27 08:30:09</td>\n",
              "    </tr>\n",
              "    <tr>\n",
              "      <th>15</th>\n",
              "      <td>RT @sofiartmedia: EURO 2020-2021 UEFA European...</td>\n",
              "      <td>0</td>\n",
              "      <td>2021-06-26 09:10:20</td>\n",
              "    </tr>\n",
              "    <tr>\n",
              "      <th>16</th>\n",
              "      <td>RT @sofiartmedia: EURO 2020-2021 UEFA European...</td>\n",
              "      <td>0</td>\n",
              "      <td>2021-06-26 09:10:16</td>\n",
              "    </tr>\n",
              "    <tr>\n",
              "      <th>17</th>\n",
              "      <td>\"We are not excluding anyone, but everyone can...</td>\n",
              "      <td>0</td>\n",
              "      <td>2021-06-26 06:47:06</td>\n",
              "    </tr>\n",
              "    <tr>\n",
              "      <th>18</th>\n",
              "      <td>RT @BasherNafiz: Jesse Lingard at the ballon d...</td>\n",
              "      <td>0</td>\n",
              "      <td>2021-06-26 04:43:32</td>\n",
              "    </tr>\n",
              "  </tbody>\n",
              "</table>\n",
              "</div>"
            ]
          },
          "metadata": {
            "tags": []
          },
          "execution_count": 38
        }
      ]
    },
    {
      "cell_type": "code",
      "metadata": {
        "id": "62qWTGEVcZRg"
      },
      "source": [
        "final = pd.concat([test,to_add2])"
      ],
      "execution_count": null,
      "outputs": []
    },
    {
      "cell_type": "code",
      "metadata": {
        "id": "uqxEYhX6cZRg",
        "outputId": "44f34cbc-a75b-4fe7-e792-064ce2d66afc"
      },
      "source": [
        "final"
      ],
      "execution_count": null,
      "outputs": [
        {
          "output_type": "execute_result",
          "data": {
            "text/plain": [
              "                                                tweet  likes  \\\n",
              "0   RT @adamblaizelives: @Ap3Journalism @TheUnited...      0   \n",
              "1   A special thank you to @adamblaizelives, @domi...      5   \n",
              "2   @Ap3Journalism @TheUnitedWay99 @ManUnitedZone_...      2   \n",
              "3   RT @org_scp: What a difference three months ma...      0   \n",
              "4   RT @org_scp: What a difference three months ma...      0   \n",
              "..                                                ...    ...   \n",
              "14  European Super League: What history can teach ...      0   \n",
              "15  RT @sofiartmedia: EURO 2020-2021 UEFA European...      0   \n",
              "16  RT @sofiartmedia: EURO 2020-2021 UEFA European...      0   \n",
              "17  \"We are not excluding anyone, but everyone can...      0   \n",
              "18  RT @BasherNafiz: Jesse Lingard at the ballon d...      0   \n",
              "\n",
              "            date_posted  \n",
              "0   2021-07-26 16:37:07  \n",
              "1   2021-07-26 16:31:25  \n",
              "2   2021-07-26 09:05:21  \n",
              "3   2021-07-25 22:04:29  \n",
              "4   2021-07-25 19:20:56  \n",
              "..                  ...  \n",
              "14  2021-06-27 08:30:09  \n",
              "15  2021-06-26 09:10:20  \n",
              "16  2021-06-26 09:10:16  \n",
              "17  2021-06-26 06:47:06  \n",
              "18  2021-06-26 04:43:32  \n",
              "\n",
              "[219 rows x 3 columns]"
            ],
            "text/html": [
              "<div>\n",
              "<style scoped>\n",
              "    .dataframe tbody tr th:only-of-type {\n",
              "        vertical-align: middle;\n",
              "    }\n",
              "\n",
              "    .dataframe tbody tr th {\n",
              "        vertical-align: top;\n",
              "    }\n",
              "\n",
              "    .dataframe thead th {\n",
              "        text-align: right;\n",
              "    }\n",
              "</style>\n",
              "<table border=\"1\" class=\"dataframe\">\n",
              "  <thead>\n",
              "    <tr style=\"text-align: right;\">\n",
              "      <th></th>\n",
              "      <th>tweet</th>\n",
              "      <th>likes</th>\n",
              "      <th>date_posted</th>\n",
              "    </tr>\n",
              "  </thead>\n",
              "  <tbody>\n",
              "    <tr>\n",
              "      <th>0</th>\n",
              "      <td>RT @adamblaizelives: @Ap3Journalism @TheUnited...</td>\n",
              "      <td>0</td>\n",
              "      <td>2021-07-26 16:37:07</td>\n",
              "    </tr>\n",
              "    <tr>\n",
              "      <th>1</th>\n",
              "      <td>A special thank you to @adamblaizelives, @domi...</td>\n",
              "      <td>5</td>\n",
              "      <td>2021-07-26 16:31:25</td>\n",
              "    </tr>\n",
              "    <tr>\n",
              "      <th>2</th>\n",
              "      <td>@Ap3Journalism @TheUnitedWay99 @ManUnitedZone_...</td>\n",
              "      <td>2</td>\n",
              "      <td>2021-07-26 09:05:21</td>\n",
              "    </tr>\n",
              "    <tr>\n",
              "      <th>3</th>\n",
              "      <td>RT @org_scp: What a difference three months ma...</td>\n",
              "      <td>0</td>\n",
              "      <td>2021-07-25 22:04:29</td>\n",
              "    </tr>\n",
              "    <tr>\n",
              "      <th>4</th>\n",
              "      <td>RT @org_scp: What a difference three months ma...</td>\n",
              "      <td>0</td>\n",
              "      <td>2021-07-25 19:20:56</td>\n",
              "    </tr>\n",
              "    <tr>\n",
              "      <th>...</th>\n",
              "      <td>...</td>\n",
              "      <td>...</td>\n",
              "      <td>...</td>\n",
              "    </tr>\n",
              "    <tr>\n",
              "      <th>14</th>\n",
              "      <td>European Super League: What history can teach ...</td>\n",
              "      <td>0</td>\n",
              "      <td>2021-06-27 08:30:09</td>\n",
              "    </tr>\n",
              "    <tr>\n",
              "      <th>15</th>\n",
              "      <td>RT @sofiartmedia: EURO 2020-2021 UEFA European...</td>\n",
              "      <td>0</td>\n",
              "      <td>2021-06-26 09:10:20</td>\n",
              "    </tr>\n",
              "    <tr>\n",
              "      <th>16</th>\n",
              "      <td>RT @sofiartmedia: EURO 2020-2021 UEFA European...</td>\n",
              "      <td>0</td>\n",
              "      <td>2021-06-26 09:10:16</td>\n",
              "    </tr>\n",
              "    <tr>\n",
              "      <th>17</th>\n",
              "      <td>\"We are not excluding anyone, but everyone can...</td>\n",
              "      <td>0</td>\n",
              "      <td>2021-06-26 06:47:06</td>\n",
              "    </tr>\n",
              "    <tr>\n",
              "      <th>18</th>\n",
              "      <td>RT @BasherNafiz: Jesse Lingard at the ballon d...</td>\n",
              "      <td>0</td>\n",
              "      <td>2021-06-26 04:43:32</td>\n",
              "    </tr>\n",
              "  </tbody>\n",
              "</table>\n",
              "<p>219 rows × 3 columns</p>\n",
              "</div>"
            ]
          },
          "metadata": {
            "tags": []
          },
          "execution_count": 40
        }
      ]
    },
    {
      "cell_type": "code",
      "metadata": {
        "id": "KJe-4T66cZRj"
      },
      "source": [
        "t4 = api.search_30_day(environment_name='nlpanalysis',query ='#EuropeanSuperLeague lang:en', maxResults = 100, fromDate = 202107261637)"
      ],
      "execution_count": null,
      "outputs": []
    },
    {
      "cell_type": "code",
      "metadata": {
        "id": "fr384nMMcZRj",
        "outputId": "c800a011-e5f2-4382-eb11-7e55df40145c"
      },
      "source": [
        "len(t4)"
      ],
      "execution_count": null,
      "outputs": [
        {
          "output_type": "execute_result",
          "data": {
            "text/plain": [
              "73"
            ]
          },
          "metadata": {
            "tags": []
          },
          "execution_count": 42
        }
      ]
    },
    {
      "cell_type": "code",
      "metadata": {
        "id": "LNb-VscjcZRj"
      },
      "source": [
        "text4 = []\n",
        "likes4 = []\n",
        "dates4 = []\n",
        "for i in t4:\n",
        "    text4.append(i.text)\n",
        "    likes4.append(i.favorite_count)\n",
        "    dates4.append(i.created_at)\n",
        "to_add3 = pd.DataFrame({'tweet':text4,'likes':likes4,'date_posted':dates4})"
      ],
      "execution_count": null,
      "outputs": []
    },
    {
      "cell_type": "code",
      "metadata": {
        "id": "cWdIhe_ecZRj"
      },
      "source": [
        "final_data = pd.concat([to_add3,final])"
      ],
      "execution_count": null,
      "outputs": []
    },
    {
      "cell_type": "code",
      "metadata": {
        "id": "yZIRHEb0cZRk"
      },
      "source": [
        "final_data = final_data.reset_index()"
      ],
      "execution_count": null,
      "outputs": []
    },
    {
      "cell_type": "code",
      "metadata": {
        "id": "nAOATDY1cZRk"
      },
      "source": [
        "final_data.drop('index',axis=1,inplace=True)"
      ],
      "execution_count": null,
      "outputs": []
    },
    {
      "cell_type": "code",
      "metadata": {
        "id": "Nk9qpdAecZRk"
      },
      "source": [
        "final_data.to_csv('complete_data.csv')"
      ],
      "execution_count": null,
      "outputs": []
    }
  ]
}