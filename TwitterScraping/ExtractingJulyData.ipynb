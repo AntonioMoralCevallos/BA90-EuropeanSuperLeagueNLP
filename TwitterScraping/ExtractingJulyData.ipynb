{
  "nbformat": 4,
  "nbformat_minor": 0,
  "metadata": {
    "colab": {
      "name": "ExtractingJulyData.ipynb",
      "provenance": []
    },
    "kernelspec": {
      "name": "python3",
      "display_name": "Python 3"
    },
    "language_info": {
      "name": "python"
    }
  },
  "cells": [
    {
      "cell_type": "code",
      "metadata": {
        "id": "uteniPCs_7Cc"
      },
      "source": [
        "# Imports \n",
        "import pandas as pd\n",
        "import numpy as np\n"
      ],
      "execution_count": null,
      "outputs": []
    },
    {
      "cell_type": "code",
      "metadata": {
        "id": "wuhJyz6icZRT"
      },
      "source": [
        "consumer_key = \n",
        "consumer_secret = \n",
        "access_token = \n",
        "access_token_secret = "
      ],
      "execution_count": null,
      "outputs": []
    },
    {
      "cell_type": "code",
      "metadata": {
        "id": "6lRGYWTKcZRU"
      },
      "source": [
        "import tweepy"
      ],
      "execution_count": null,
      "outputs": []
    },
    {
      "cell_type": "code",
      "metadata": {
        "id": "KKnT-nRocZRU"
      },
      "source": [
        "auth = tweepy.OAuthHandler(consumer_key,consumer_secret)\n",
        "auth.set_access_token(access_token,access_token_secret)\n",
        "api = tweepy.API(auth)\n",
        "dev_env = 'europeansoccerleaguedata'"
      ],
      "execution_count": null,
      "outputs": []
    },
    {
      "cell_type": "code",
      "metadata": {
        "id": "xDf1Z944cZRU"
      },
      "source": [
        "#dates must be in this format yyyyMMddHHmm\n",
        "b_date = '202107011200'\n",
        "e_date = '202107302359'"
      ],
      "execution_count": null,
      "outputs": []
    },
    {
      "cell_type": "code",
      "metadata": {
        "id": "LmZ4GbNs3ppT"
      },
      "source": [
        "full_text2 = []\n",
        "likes2 = []\n",
        "date2 = []\n",
        "tweet_id2 = []\n",
        "for page in tweepy.Cursor(api.search_full_archive,environment_name=dev_env,query = '#EuropeanSuperLeague lang:en',fromDate = b_date,toDate=e_date).pages(10):\n",
        "  for status in page:\n",
        "    full_text2.append(status.text)\n",
        "    likes2.append(status.favorite_count)\n",
        "    date2.append(status.created_at)\n",
        "    tweet_id2.append(status.id)\n"
      ],
      "execution_count": null,
      "outputs": []
    },
    {
      "cell_type": "code",
      "metadata": {
        "id": "jSrasciJ7eYy"
      },
      "source": [
        "july_data = pd.DataFrame({'tweet':full_text2,'likes': likes2, 'date_posted' : date2, 'id':tweet_id2})"
      ],
      "execution_count": null,
      "outputs": []
    },
    {
      "cell_type": "code",
      "metadata": {
        "colab": {
          "base_uri": "https://localhost:8080/",
          "height": 419
        },
        "id": "Bn2Z31j68mVP",
        "outputId": "8bac8df2-9b2a-44e9-b39e-7576efa187ba"
      },
      "source": [
        "july_data"
      ],
      "execution_count": null,
      "outputs": [
        {
          "output_type": "execute_result",
          "data": {
            "text/html": [
              "<div>\n",
              "<style scoped>\n",
              "    .dataframe tbody tr th:only-of-type {\n",
              "        vertical-align: middle;\n",
              "    }\n",
              "\n",
              "    .dataframe tbody tr th {\n",
              "        vertical-align: top;\n",
              "    }\n",
              "\n",
              "    .dataframe thead th {\n",
              "        text-align: right;\n",
              "    }\n",
              "</style>\n",
              "<table border=\"1\" class=\"dataframe\">\n",
              "  <thead>\n",
              "    <tr style=\"text-align: right;\">\n",
              "      <th></th>\n",
              "      <th>tweet</th>\n",
              "      <th>likes</th>\n",
              "      <th>date_posted</th>\n",
              "      <th>id</th>\n",
              "    </tr>\n",
              "  </thead>\n",
              "  <tbody>\n",
              "    <tr>\n",
              "      <th>0</th>\n",
              "      <td>I wonder how fans of the six English clubs tha...</td>\n",
              "      <td>0</td>\n",
              "      <td>2021-07-30 21:00:23</td>\n",
              "      <td>1421214110558179328</td>\n",
              "    </tr>\n",
              "    <tr>\n",
              "      <th>1</th>\n",
              "      <td>European Super League: Barcelona, Real Madrid ...</td>\n",
              "      <td>0</td>\n",
              "      <td>2021-07-30 20:29:05</td>\n",
              "      <td>1421206233810448394</td>\n",
              "    </tr>\n",
              "    <tr>\n",
              "      <th>2</th>\n",
              "      <td>Told you, it wasn't going away. Do you really ...</td>\n",
              "      <td>0</td>\n",
              "      <td>2021-07-30 20:24:41</td>\n",
              "      <td>1421205126803505155</td>\n",
              "    </tr>\n",
              "    <tr>\n",
              "      <th>3</th>\n",
              "      <td>#SuperLeague. This is going to happen, eventua...</td>\n",
              "      <td>0</td>\n",
              "      <td>2021-07-30 20:22:30</td>\n",
              "      <td>1421204576938741767</td>\n",
              "    </tr>\n",
              "    <tr>\n",
              "      <th>4</th>\n",
              "      <td>The problem with the battle between #UEFA and ...</td>\n",
              "      <td>1</td>\n",
              "      <td>2021-07-30 20:08:18</td>\n",
              "      <td>1421201001542045697</td>\n",
              "    </tr>\n",
              "    <tr>\n",
              "      <th>...</th>\n",
              "      <td>...</td>\n",
              "      <td>...</td>\n",
              "      <td>...</td>\n",
              "      <td>...</td>\n",
              "    </tr>\n",
              "    <tr>\n",
              "      <th>291</th>\n",
              "      <td>Has to be retweeted and if we all retweet more...</td>\n",
              "      <td>1</td>\n",
              "      <td>2021-07-02 08:07:44</td>\n",
              "      <td>1410872807697883136</td>\n",
              "    </tr>\n",
              "    <tr>\n",
              "      <th>292</th>\n",
              "      <td>RT @Retro_George: Today's #EuropeanSuperLeague...</td>\n",
              "      <td>0</td>\n",
              "      <td>2021-07-02 07:45:43</td>\n",
              "      <td>1410867267961769985</td>\n",
              "    </tr>\n",
              "    <tr>\n",
              "      <th>293</th>\n",
              "      <td>RT @ashraf890251: Check out my Gig on Fiverr: ...</td>\n",
              "      <td>0</td>\n",
              "      <td>2021-07-02 02:05:00</td>\n",
              "      <td>1410781522127462405</td>\n",
              "    </tr>\n",
              "    <tr>\n",
              "      <th>294</th>\n",
              "      <td>RT @sofiartmedia: EURO 2020-2021 UEFA European...</td>\n",
              "      <td>0</td>\n",
              "      <td>2021-07-01 16:49:52</td>\n",
              "      <td>1410641818010755077</td>\n",
              "    </tr>\n",
              "    <tr>\n",
              "      <th>295</th>\n",
              "      <td>A Spanish court ordered UEFA to cancel all leg...</td>\n",
              "      <td>0</td>\n",
              "      <td>2021-07-01 15:58:58</td>\n",
              "      <td>1410629009851879433</td>\n",
              "    </tr>\n",
              "  </tbody>\n",
              "</table>\n",
              "<p>296 rows × 4 columns</p>\n",
              "</div>"
            ],
            "text/plain": [
              "                                                 tweet  ...                   id\n",
              "0    I wonder how fans of the six English clubs tha...  ...  1421214110558179328\n",
              "1    European Super League: Barcelona, Real Madrid ...  ...  1421206233810448394\n",
              "2    Told you, it wasn't going away. Do you really ...  ...  1421205126803505155\n",
              "3    #SuperLeague. This is going to happen, eventua...  ...  1421204576938741767\n",
              "4    The problem with the battle between #UEFA and ...  ...  1421201001542045697\n",
              "..                                                 ...  ...                  ...\n",
              "291  Has to be retweeted and if we all retweet more...  ...  1410872807697883136\n",
              "292  RT @Retro_George: Today's #EuropeanSuperLeague...  ...  1410867267961769985\n",
              "293  RT @ashraf890251: Check out my Gig on Fiverr: ...  ...  1410781522127462405\n",
              "294  RT @sofiartmedia: EURO 2020-2021 UEFA European...  ...  1410641818010755077\n",
              "295  A Spanish court ordered UEFA to cancel all leg...  ...  1410629009851879433\n",
              "\n",
              "[296 rows x 4 columns]"
            ]
          },
          "metadata": {
            "tags": []
          },
          "execution_count": 12
        }
      ]
    },
    {
      "cell_type": "code",
      "metadata": {
        "id": "Wu9016SO8mvw"
      },
      "source": [
        "july_data.to_csv('july_data.csv')"
      ],
      "execution_count": null,
      "outputs": []
    }
  ]
}