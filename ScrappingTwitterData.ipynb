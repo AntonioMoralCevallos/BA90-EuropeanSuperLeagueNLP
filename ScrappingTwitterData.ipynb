{
  "nbformat": 4,
  "nbformat_minor": 2,
  "metadata": {
    "colab": {
      "name": "ScrappingTwitterData.ipynb",
      "provenance": []
    },
    "kernelspec": {
      "name": "python3",
      "display_name": "Python 3.8.3 64-bit ('base': conda)"
    },
    "language_info": {
      "name": "python",
      "version": "3.8.3",
      "mimetype": "text/x-python",
      "codemirror_mode": {
        "name": "ipython",
        "version": 3
      },
      "pygments_lexer": "ipython3",
      "nbconvert_exporter": "python",
      "file_extension": ".py"
    },
    "interpreter": {
      "hash": "bacdf26ad233b22ff1cb926c9eb96cf5673268ba8d7652bc9273d93497b5357b"
    }
  },
  "cells": [
    {
      "cell_type": "markdown",
      "source": [
        "## Scrapping Twitter Data\r\n",
        "In this notebook I will obtain the main dataset that I will use for analysis in this project. Initially looking to scrape tweets that include the #EuropeanSuperLeague that were tweeted between April 18th 2021 (the announcement of the league) and May 20th 2021. \r\n",
        "I believe this will give a good idea of what was the sentiment towards this new idea when it was announced to the world.\r\n",
        "\r\n",
        "The scrapping will be done using Twitter's own API and text data will be modified using Spacy. \r\n",
        "\r\n",
        "After being unable to retrieve twitter data from the initially planned dates, the analysis will focus on current sentiment towards the idea, with a limited amount of data. "
      ],
      "metadata": {
        "id": "XfuL-zzUABGB"
      }
    },
    {
      "cell_type": "code",
      "execution_count": 1,
      "source": [
        "# Imports \r\n",
        "import nltk\r\n",
        "nltk.download('punkt')\r\n",
        "nltk.download('wordnet')\r\n",
        "from nltk import sent_tokenize, word_tokenize\r\n",
        "from nltk.stem.snowball import SnowballStemmer\r\n",
        "from nltk.stem.wordnet import WordNetLemmatizer\r\n",
        "from nltk.corpus import stopwords\r\n",
        "import pandas as pd\r\n",
        "import numpy as np\r\n",
        "import re  \r\n",
        "import spacy\r\n"
      ],
      "outputs": [
        {
          "output_type": "stream",
          "name": "stderr",
          "text": [
            "[nltk_data] Downloading package punkt to\n",
            "[nltk_data]     C:\\Users\\anton\\AppData\\Roaming\\nltk_data...\n",
            "[nltk_data]   Package punkt is already up-to-date!\n",
            "[nltk_data] Downloading package wordnet to\n",
            "[nltk_data]     C:\\Users\\anton\\AppData\\Roaming\\nltk_data...\n",
            "[nltk_data]   Package wordnet is already up-to-date!\n"
          ]
        }
      ],
      "metadata": {
        "colab": {
          "base_uri": "https://localhost:8080/"
        },
        "id": "uteniPCs_7Cc",
        "outputId": "992551f1-3a36-4d3f-c852-1e5259dfba7e"
      }
    },
    {
      "cell_type": "code",
      "execution_count": 2,
      "source": [
        "import spacy.cli \r\n",
        "spacy.cli.download(\"en_core_web_lg\")\r\n",
        "nlp = spacy.load('en_core_web_lg')"
      ],
      "outputs": [
        {
          "output_type": "stream",
          "name": "stdout",
          "text": [
            "✔ Download and installation successful\n",
            "You can now load the package via spacy.load('en_core_web_lg')\n"
          ]
        }
      ],
      "metadata": {
        "colab": {
          "base_uri": "https://localhost:8080/"
        },
        "id": "6dohK59tE8e7",
        "outputId": "f25afb86-6fa1-4d71-929f-85bb97e661dc"
      }
    },
    {
      "cell_type": "code",
      "execution_count": 3,
      "source": [
        "consumer_key = '9s6TkPcNp4VyMX0js2B5ifxPj'\r\n",
        "consumer_secret = 'zTce5IwIARuiQx98WMDso6B9PmbTtLsTnGhaHBTdqbqVhk9BsU'\r\n",
        "access_token = '925863717274873863-0ZqqeSROt25RJVn41S8LWJM9NHOHPk2'\r\n",
        "access_token_secret = 'GlmJq9XSIAzq8pAU4numofBpx7I3BIGaBUgHONTiplu0v'"
      ],
      "outputs": [],
      "metadata": {}
    },
    {
      "cell_type": "code",
      "execution_count": 4,
      "source": [
        "import tweepy"
      ],
      "outputs": [],
      "metadata": {}
    },
    {
      "cell_type": "code",
      "execution_count": 5,
      "source": [
        "auth = tweepy.OAuthHandler(consumer_key,consumer_secret)\r\n",
        "auth.set_access_token(access_token,access_token_secret)\r\n",
        "api = tweepy.API(auth)\r\n",
        "\r\n",
        "#status_list = api.user_timeline(\"brocktibert\")\r\n"
      ],
      "outputs": [],
      "metadata": {}
    },
    {
      "cell_type": "code",
      "execution_count": 6,
      "source": [
        "# begin_date = dt.datetime(2021,4,18,12,00)\r\n",
        "# end_date = dt.datetime(2021,5,20,23,59)\r\n",
        "#dates must be in this format yyyyMMddHHmm\r\n",
        "b_date = '202104181200'\r\n",
        "e_date = '202105202359'"
      ],
      "outputs": [],
      "metadata": {}
    },
    {
      "cell_type": "code",
      "execution_count": 7,
      "source": [
        "tweets = api.search(q=\"bruins\", lang=\"en\", rpp=1)\r\n"
      ],
      "outputs": [],
      "metadata": {}
    },
    {
      "cell_type": "code",
      "execution_count": 8,
      "source": [
        "type(tweets)"
      ],
      "outputs": [
        {
          "output_type": "execute_result",
          "data": {
            "text/plain": [
              "tweepy.models.SearchResults"
            ]
          },
          "metadata": {},
          "execution_count": 8
        }
      ],
      "metadata": {}
    },
    {
      "cell_type": "code",
      "execution_count": 69,
      "source": [
        "t = api.search(enviroment='nlpanalysis',q ='#EuropeanSuperLeague lang:en -filter:retweets', count = 250, result_type = 'recent', tweet_mode = 'extended')"
      ],
      "outputs": [],
      "metadata": {}
    },
    {
      "cell_type": "code",
      "execution_count": 70,
      "source": [
        "len(t)"
      ],
      "outputs": [
        {
          "output_type": "execute_result",
          "data": {
            "text/plain": [
              "17"
            ]
          },
          "metadata": {},
          "execution_count": 70
        }
      ],
      "metadata": {}
    },
    {
      "cell_type": "code",
      "execution_count": 71,
      "source": [
        "t[8].id"
      ],
      "outputs": [
        {
          "output_type": "execute_result",
          "data": {
            "text/plain": [
              "1418484509771763716"
            ]
          },
          "metadata": {},
          "execution_count": 71
        }
      ],
      "metadata": {}
    },
    {
      "cell_type": "code",
      "execution_count": 72,
      "source": [
        "full_text = []\r\n",
        "likes = []\r\n",
        "date = []\r\n",
        "tweet_id = []\r\n",
        "for tweet in t:\r\n",
        "    full_text.append(tweet.full_text)\r\n",
        "    likes.append(tweet.favorite_count)\r\n",
        "    date.append(tweet.created_at)\r\n",
        "    tweet_id.append(tweet.id)\r\n"
      ],
      "outputs": [],
      "metadata": {}
    },
    {
      "cell_type": "code",
      "execution_count": 73,
      "source": [
        "df = pd.DataFrame({'tweet':full_text,'likes': likes, 'date_posted' : date, 'id':tweet_id})"
      ],
      "outputs": [],
      "metadata": {}
    },
    {
      "cell_type": "code",
      "execution_count": 75,
      "source": [
        "df"
      ],
      "outputs": [
        {
          "output_type": "execute_result",
          "data": {
            "text/plain": [
              "                                                tweet  likes  \\\n",
              "0   A special thank you to @adamblaizelives, @domi...      5   \n",
              "1   @Ap3Journalism @TheUnitedWay99 @ManUnitedZone_...      2   \n",
              "2   @jimwaterson @BBC @Olympics I don’t disagree. ...      2   \n",
              "3   What a difference three months makes, since th...    182   \n",
              "4   I have to say those American #EuropeanSuperLea...      0   \n",
              "5   @SkySportsNews Still waiting for the ESL punis...      0   \n",
              "6   Still waiting for the ESL punishment to the Pr...      1   \n",
              "7   How could a CJEU ruling on the International S...      0   \n",
              "8   Many months ago 6 teams agreed to pay a fine #...     10   \n",
              "9   European Super League: Billionaires Want to Ma...      0   \n",
              "10  #NBAFinals are over.. #Olympics2021 are in a b...      0   \n",
              "11  ⚽ Social media has been a driver for the commo...      1   \n",
              "12  Why do I feel the breakaway teams who were sto...      0   \n",
              "13  @robot_lien Halo! here is your unroll: 🇪🇺 Key ...      0   \n",
              "14  Can't believe I am counting days special event...      8   \n",
              "15  #LaLiga join #UEFA and #FIFA in #EuropeanSuper...      0   \n",
              "16  To think #NUFC fans were actually appalled by ...     36   \n",
              "\n",
              "           date_posted                   id  \n",
              "0  2021-07-26 16:31:25  1419696873489813511  \n",
              "1  2021-07-26 09:05:21  1419584614813798407  \n",
              "2  2021-07-25 16:20:35  1419331756138840069  \n",
              "3  2021-07-25 10:50:10  1419248606721232897  \n",
              "4  2021-07-23 22:22:09  1418697971084840960  \n",
              "5  2021-07-23 12:57:57  1418555988463046657  \n",
              "6  2021-07-23 12:56:53  1418555717531881473  \n",
              "7  2021-07-23 09:01:03  1418496368222646272  \n",
              "8  2021-07-23 08:13:55  1418484509771763716  \n",
              "9  2021-07-23 06:00:40  1418450976017637378  \n",
              "10 2021-07-21 22:25:49  1417974119489056769  \n",
              "11 2021-07-21 11:45:18  1417812928368099333  \n",
              "12 2021-07-21 10:37:43  1417795919207141378  \n",
              "13 2021-07-21 09:50:07  1417783940367126529  \n",
              "14 2021-07-21 07:38:38  1417750852958314497  \n",
              "15 2021-07-19 22:41:42  1417253342980550660  \n",
              "16 2021-07-19 18:20:48  1417187685521895428  "
            ],
            "text/html": [
              "<div>\n",
              "<style scoped>\n",
              "    .dataframe tbody tr th:only-of-type {\n",
              "        vertical-align: middle;\n",
              "    }\n",
              "\n",
              "    .dataframe tbody tr th {\n",
              "        vertical-align: top;\n",
              "    }\n",
              "\n",
              "    .dataframe thead th {\n",
              "        text-align: right;\n",
              "    }\n",
              "</style>\n",
              "<table border=\"1\" class=\"dataframe\">\n",
              "  <thead>\n",
              "    <tr style=\"text-align: right;\">\n",
              "      <th></th>\n",
              "      <th>tweet</th>\n",
              "      <th>likes</th>\n",
              "      <th>date_posted</th>\n",
              "      <th>id</th>\n",
              "    </tr>\n",
              "  </thead>\n",
              "  <tbody>\n",
              "    <tr>\n",
              "      <th>0</th>\n",
              "      <td>A special thank you to @adamblaizelives, @domi...</td>\n",
              "      <td>5</td>\n",
              "      <td>2021-07-26 16:31:25</td>\n",
              "      <td>1419696873489813511</td>\n",
              "    </tr>\n",
              "    <tr>\n",
              "      <th>1</th>\n",
              "      <td>@Ap3Journalism @TheUnitedWay99 @ManUnitedZone_...</td>\n",
              "      <td>2</td>\n",
              "      <td>2021-07-26 09:05:21</td>\n",
              "      <td>1419584614813798407</td>\n",
              "    </tr>\n",
              "    <tr>\n",
              "      <th>2</th>\n",
              "      <td>@jimwaterson @BBC @Olympics I don’t disagree. ...</td>\n",
              "      <td>2</td>\n",
              "      <td>2021-07-25 16:20:35</td>\n",
              "      <td>1419331756138840069</td>\n",
              "    </tr>\n",
              "    <tr>\n",
              "      <th>3</th>\n",
              "      <td>What a difference three months makes, since th...</td>\n",
              "      <td>182</td>\n",
              "      <td>2021-07-25 10:50:10</td>\n",
              "      <td>1419248606721232897</td>\n",
              "    </tr>\n",
              "    <tr>\n",
              "      <th>4</th>\n",
              "      <td>I have to say those American #EuropeanSuperLea...</td>\n",
              "      <td>0</td>\n",
              "      <td>2021-07-23 22:22:09</td>\n",
              "      <td>1418697971084840960</td>\n",
              "    </tr>\n",
              "    <tr>\n",
              "      <th>5</th>\n",
              "      <td>@SkySportsNews Still waiting for the ESL punis...</td>\n",
              "      <td>0</td>\n",
              "      <td>2021-07-23 12:57:57</td>\n",
              "      <td>1418555988463046657</td>\n",
              "    </tr>\n",
              "    <tr>\n",
              "      <th>6</th>\n",
              "      <td>Still waiting for the ESL punishment to the Pr...</td>\n",
              "      <td>1</td>\n",
              "      <td>2021-07-23 12:56:53</td>\n",
              "      <td>1418555717531881473</td>\n",
              "    </tr>\n",
              "    <tr>\n",
              "      <th>7</th>\n",
              "      <td>How could a CJEU ruling on the International S...</td>\n",
              "      <td>0</td>\n",
              "      <td>2021-07-23 09:01:03</td>\n",
              "      <td>1418496368222646272</td>\n",
              "    </tr>\n",
              "    <tr>\n",
              "      <th>8</th>\n",
              "      <td>Many months ago 6 teams agreed to pay a fine #...</td>\n",
              "      <td>10</td>\n",
              "      <td>2021-07-23 08:13:55</td>\n",
              "      <td>1418484509771763716</td>\n",
              "    </tr>\n",
              "    <tr>\n",
              "      <th>9</th>\n",
              "      <td>European Super League: Billionaires Want to Ma...</td>\n",
              "      <td>0</td>\n",
              "      <td>2021-07-23 06:00:40</td>\n",
              "      <td>1418450976017637378</td>\n",
              "    </tr>\n",
              "    <tr>\n",
              "      <th>10</th>\n",
              "      <td>#NBAFinals are over.. #Olympics2021 are in a b...</td>\n",
              "      <td>0</td>\n",
              "      <td>2021-07-21 22:25:49</td>\n",
              "      <td>1417974119489056769</td>\n",
              "    </tr>\n",
              "    <tr>\n",
              "      <th>11</th>\n",
              "      <td>⚽ Social media has been a driver for the commo...</td>\n",
              "      <td>1</td>\n",
              "      <td>2021-07-21 11:45:18</td>\n",
              "      <td>1417812928368099333</td>\n",
              "    </tr>\n",
              "    <tr>\n",
              "      <th>12</th>\n",
              "      <td>Why do I feel the breakaway teams who were sto...</td>\n",
              "      <td>0</td>\n",
              "      <td>2021-07-21 10:37:43</td>\n",
              "      <td>1417795919207141378</td>\n",
              "    </tr>\n",
              "    <tr>\n",
              "      <th>13</th>\n",
              "      <td>@robot_lien Halo! here is your unroll: 🇪🇺 Key ...</td>\n",
              "      <td>0</td>\n",
              "      <td>2021-07-21 09:50:07</td>\n",
              "      <td>1417783940367126529</td>\n",
              "    </tr>\n",
              "    <tr>\n",
              "      <th>14</th>\n",
              "      <td>Can't believe I am counting days special event...</td>\n",
              "      <td>8</td>\n",
              "      <td>2021-07-21 07:38:38</td>\n",
              "      <td>1417750852958314497</td>\n",
              "    </tr>\n",
              "    <tr>\n",
              "      <th>15</th>\n",
              "      <td>#LaLiga join #UEFA and #FIFA in #EuropeanSuper...</td>\n",
              "      <td>0</td>\n",
              "      <td>2021-07-19 22:41:42</td>\n",
              "      <td>1417253342980550660</td>\n",
              "    </tr>\n",
              "    <tr>\n",
              "      <th>16</th>\n",
              "      <td>To think #NUFC fans were actually appalled by ...</td>\n",
              "      <td>36</td>\n",
              "      <td>2021-07-19 18:20:48</td>\n",
              "      <td>1417187685521895428</td>\n",
              "    </tr>\n",
              "  </tbody>\n",
              "</table>\n",
              "</div>"
            ]
          },
          "metadata": {},
          "execution_count": 75
        }
      ],
      "metadata": {}
    },
    {
      "cell_type": "code",
      "execution_count": 81,
      "source": [
        "t_1 = api.search(enviroment='nlpanalysis',q ='#EuropeanSuperLeague lang:en -filter:retweets', count = 250, result_type = 'recent', tweet_mode = 'extended')"
      ],
      "outputs": [],
      "metadata": {}
    },
    {
      "cell_type": "code",
      "execution_count": 82,
      "source": [
        "len(t_1)"
      ],
      "outputs": [
        {
          "output_type": "execute_result",
          "data": {
            "text/plain": [
              "1"
            ]
          },
          "metadata": {},
          "execution_count": 82
        }
      ],
      "metadata": {}
    },
    {
      "cell_type": "code",
      "execution_count": 78,
      "source": [
        "t_1[0].full_text"
      ],
      "outputs": [
        {
          "output_type": "execute_result",
          "data": {
            "text/plain": [
              "'A special thank you to @adamblaizelives, @dominictaylor6_, @JacobRanson27 and @MAAjournalism for the interviews! \\n\\n#Arsenal #Afc #ManchesterUnited #Mufc #Chelsea #Liverpool #ManchesterCity #Tottenham #Europeansuperleague #SuperLeague'"
            ]
          },
          "metadata": {},
          "execution_count": 78
        }
      ],
      "metadata": {}
    },
    {
      "cell_type": "code",
      "execution_count": null,
      "source": [
        "t1 = api.search_30_day(environment_name='nlpanalysis',query ='#EuropeanSuperLeague lang:en', maxResults = 100)"
      ],
      "outputs": [],
      "metadata": {}
    },
    {
      "cell_type": "code",
      "execution_count": 87,
      "source": [
        "len(t1)"
      ],
      "outputs": [
        {
          "output_type": "execute_result",
          "data": {
            "text/plain": [
              "100"
            ]
          },
          "metadata": {},
          "execution_count": 87
        }
      ],
      "metadata": {}
    },
    {
      "cell_type": "code",
      "execution_count": 116,
      "source": [
        "fuck_twitter = t1[0]"
      ],
      "outputs": [],
      "metadata": {}
    },
    {
      "cell_type": "code",
      "execution_count": 117,
      "source": [
        "fuck_twitter.text"
      ],
      "outputs": [
        {
          "output_type": "execute_result",
          "data": {
            "text/plain": [
              "'RT @adamblaizelives: @Ap3Journalism @TheUnitedWay99 @ManUnitedZone_ \\n\\nBig thanks to Adam Perry for including me in his short documentary.…'"
            ]
          },
          "metadata": {},
          "execution_count": 117
        }
      ],
      "metadata": {}
    },
    {
      "cell_type": "code",
      "execution_count": 119,
      "source": [
        "text = []\r\n",
        "likes2 = []\r\n",
        "dates = []\r\n",
        "for i in t1:\r\n",
        "    text.append(i.text)\r\n",
        "    likes2.append(i.favorite_count)\r\n",
        "    dates.append(i.created_at)\r\n"
      ],
      "outputs": [],
      "metadata": {}
    },
    {
      "cell_type": "code",
      "execution_count": 120,
      "source": [
        "df2 = pd.DataFrame({'tweet':text,'likes':likes2,'date_posted':dates})"
      ],
      "outputs": [],
      "metadata": {}
    },
    {
      "cell_type": "code",
      "execution_count": 125,
      "source": [
        "df2.to_csv('First_set.csv')"
      ],
      "outputs": [],
      "metadata": {}
    },
    {
      "cell_type": "code",
      "execution_count": 6,
      "source": [
        "data = pd.read_csv('First_set.csv')"
      ],
      "outputs": [],
      "metadata": {}
    },
    {
      "cell_type": "code",
      "execution_count": 8,
      "source": [
        "data.drop('Unnamed: 0',axis=1,inplace=True)"
      ],
      "outputs": [],
      "metadata": {}
    },
    {
      "cell_type": "code",
      "execution_count": 9,
      "source": [
        "data"
      ],
      "outputs": [
        {
          "output_type": "execute_result",
          "data": {
            "text/plain": [
              "                                                tweet  likes  \\\n",
              "0   RT @adamblaizelives: @Ap3Journalism @TheUnited...      0   \n",
              "1   A special thank you to @adamblaizelives, @domi...      5   \n",
              "2   @Ap3Journalism @TheUnitedWay99 @ManUnitedZone_...      2   \n",
              "3   RT @org_scp: What a difference three months ma...      0   \n",
              "4   RT @org_scp: What a difference three months ma...      0   \n",
              "..                                                ...    ...   \n",
              "95  RT @PaulGallant11: To @OliverDowden our Takeov...      0   \n",
              "96  To @OliverDowden our Takeover \\nWe were in Lon...     17   \n",
              "97  RT @stevetibbett: new podcast out today on the...      0   \n",
              "98  RT @Anthony04201636: @theMadridZone @elconfide...      0   \n",
              "99  RT @stevetibbett: new podcast out today on the...      0   \n",
              "\n",
              "            date_posted  \n",
              "0   2021-07-26 16:37:07  \n",
              "1   2021-07-26 16:31:25  \n",
              "2   2021-07-26 09:05:21  \n",
              "3   2021-07-25 22:04:29  \n",
              "4   2021-07-25 19:20:56  \n",
              "..                  ...  \n",
              "95  2021-07-17 07:35:15  \n",
              "96  2021-07-17 07:01:28  \n",
              "97  2021-07-16 13:35:22  \n",
              "98  2021-07-16 10:12:15  \n",
              "99  2021-07-16 08:50:34  \n",
              "\n",
              "[100 rows x 3 columns]"
            ],
            "text/html": [
              "<div>\n",
              "<style scoped>\n",
              "    .dataframe tbody tr th:only-of-type {\n",
              "        vertical-align: middle;\n",
              "    }\n",
              "\n",
              "    .dataframe tbody tr th {\n",
              "        vertical-align: top;\n",
              "    }\n",
              "\n",
              "    .dataframe thead th {\n",
              "        text-align: right;\n",
              "    }\n",
              "</style>\n",
              "<table border=\"1\" class=\"dataframe\">\n",
              "  <thead>\n",
              "    <tr style=\"text-align: right;\">\n",
              "      <th></th>\n",
              "      <th>tweet</th>\n",
              "      <th>likes</th>\n",
              "      <th>date_posted</th>\n",
              "    </tr>\n",
              "  </thead>\n",
              "  <tbody>\n",
              "    <tr>\n",
              "      <th>0</th>\n",
              "      <td>RT @adamblaizelives: @Ap3Journalism @TheUnited...</td>\n",
              "      <td>0</td>\n",
              "      <td>2021-07-26 16:37:07</td>\n",
              "    </tr>\n",
              "    <tr>\n",
              "      <th>1</th>\n",
              "      <td>A special thank you to @adamblaizelives, @domi...</td>\n",
              "      <td>5</td>\n",
              "      <td>2021-07-26 16:31:25</td>\n",
              "    </tr>\n",
              "    <tr>\n",
              "      <th>2</th>\n",
              "      <td>@Ap3Journalism @TheUnitedWay99 @ManUnitedZone_...</td>\n",
              "      <td>2</td>\n",
              "      <td>2021-07-26 09:05:21</td>\n",
              "    </tr>\n",
              "    <tr>\n",
              "      <th>3</th>\n",
              "      <td>RT @org_scp: What a difference three months ma...</td>\n",
              "      <td>0</td>\n",
              "      <td>2021-07-25 22:04:29</td>\n",
              "    </tr>\n",
              "    <tr>\n",
              "      <th>4</th>\n",
              "      <td>RT @org_scp: What a difference three months ma...</td>\n",
              "      <td>0</td>\n",
              "      <td>2021-07-25 19:20:56</td>\n",
              "    </tr>\n",
              "    <tr>\n",
              "      <th>...</th>\n",
              "      <td>...</td>\n",
              "      <td>...</td>\n",
              "      <td>...</td>\n",
              "    </tr>\n",
              "    <tr>\n",
              "      <th>95</th>\n",
              "      <td>RT @PaulGallant11: To @OliverDowden our Takeov...</td>\n",
              "      <td>0</td>\n",
              "      <td>2021-07-17 07:35:15</td>\n",
              "    </tr>\n",
              "    <tr>\n",
              "      <th>96</th>\n",
              "      <td>To @OliverDowden our Takeover \\nWe were in Lon...</td>\n",
              "      <td>17</td>\n",
              "      <td>2021-07-17 07:01:28</td>\n",
              "    </tr>\n",
              "    <tr>\n",
              "      <th>97</th>\n",
              "      <td>RT @stevetibbett: new podcast out today on the...</td>\n",
              "      <td>0</td>\n",
              "      <td>2021-07-16 13:35:22</td>\n",
              "    </tr>\n",
              "    <tr>\n",
              "      <th>98</th>\n",
              "      <td>RT @Anthony04201636: @theMadridZone @elconfide...</td>\n",
              "      <td>0</td>\n",
              "      <td>2021-07-16 10:12:15</td>\n",
              "    </tr>\n",
              "    <tr>\n",
              "      <th>99</th>\n",
              "      <td>RT @stevetibbett: new podcast out today on the...</td>\n",
              "      <td>0</td>\n",
              "      <td>2021-07-16 08:50:34</td>\n",
              "    </tr>\n",
              "  </tbody>\n",
              "</table>\n",
              "<p>100 rows × 3 columns</p>\n",
              "</div>"
            ]
          },
          "metadata": {},
          "execution_count": 9
        }
      ],
      "metadata": {}
    },
    {
      "cell_type": "code",
      "execution_count": 10,
      "source": [
        "t2 = api.search_30_day(environment_name='nlpanalysis',query ='#EuropeanSuperLeague lang:en', maxResults = 100, toDate = 202107160850)"
      ],
      "outputs": [],
      "metadata": {}
    },
    {
      "cell_type": "code",
      "execution_count": 12,
      "source": [
        "len(t2)"
      ],
      "outputs": [
        {
          "output_type": "execute_result",
          "data": {
            "text/plain": [
              "100"
            ]
          },
          "metadata": {},
          "execution_count": 12
        }
      ],
      "metadata": {}
    },
    {
      "cell_type": "code",
      "execution_count": 13,
      "source": [
        "text = []\r\n",
        "likes2 = []\r\n",
        "dates = []\r\n",
        "for i in t2:\r\n",
        "    text.append(i.text)\r\n",
        "    likes2.append(i.favorite_count)\r\n",
        "    dates.append(i.created_at)"
      ],
      "outputs": [],
      "metadata": {}
    },
    {
      "cell_type": "code",
      "execution_count": 14,
      "source": [
        "to_add = pd.DataFrame({'tweet':text,'likes':likes2,'date_posted':dates})"
      ],
      "outputs": [],
      "metadata": {}
    },
    {
      "cell_type": "code",
      "execution_count": 15,
      "source": [
        "to_add"
      ],
      "outputs": [
        {
          "output_type": "execute_result",
          "data": {
            "text/plain": [
              "                                                tweet  likes  \\\n",
              "0   @theMadridZone @elconfidencial If this is Uefa...      9   \n",
              "1   Italy makes bid to host 2028 european cup or 2...      0   \n",
              "2   RT @europeangreens: Feeling betrayed by your f...      0   \n",
              "3   RT @jake_pugh: #europeansuperleague What busin...      0   \n",
              "4   Israel is not Jewish, Israel is Zionist #movem...      1   \n",
              "..                                                ...    ...   \n",
              "95  The 5 days of the #europeansuperleague showed ...      4   \n",
              "96  RT @tvukzone: Sky commission #EuropeanSuperLea...      0   \n",
              "97  RT @tvukzone: Sky Documentaries commission #Eu...      0   \n",
              "98  Sky commission #EuropeanSuperLeague documentar...      5   \n",
              "99  Check out my Gig on Fiverr: do excel data entr...      0   \n",
              "\n",
              "           date_posted  \n",
              "0  2021-07-16 07:59:43  \n",
              "1  2021-07-16 06:53:27  \n",
              "2  2021-07-15 20:31:16  \n",
              "3  2021-07-15 19:44:32  \n",
              "4  2021-07-15 13:19:17  \n",
              "..                 ...  \n",
              "95 2021-06-29 20:59:30  \n",
              "96 2021-06-29 20:05:55  \n",
              "97 2021-06-29 20:02:45  \n",
              "98 2021-06-29 20:00:01  \n",
              "99 2021-06-29 18:59:37  \n",
              "\n",
              "[100 rows x 3 columns]"
            ],
            "text/html": [
              "<div>\n",
              "<style scoped>\n",
              "    .dataframe tbody tr th:only-of-type {\n",
              "        vertical-align: middle;\n",
              "    }\n",
              "\n",
              "    .dataframe tbody tr th {\n",
              "        vertical-align: top;\n",
              "    }\n",
              "\n",
              "    .dataframe thead th {\n",
              "        text-align: right;\n",
              "    }\n",
              "</style>\n",
              "<table border=\"1\" class=\"dataframe\">\n",
              "  <thead>\n",
              "    <tr style=\"text-align: right;\">\n",
              "      <th></th>\n",
              "      <th>tweet</th>\n",
              "      <th>likes</th>\n",
              "      <th>date_posted</th>\n",
              "    </tr>\n",
              "  </thead>\n",
              "  <tbody>\n",
              "    <tr>\n",
              "      <th>0</th>\n",
              "      <td>@theMadridZone @elconfidencial If this is Uefa...</td>\n",
              "      <td>9</td>\n",
              "      <td>2021-07-16 07:59:43</td>\n",
              "    </tr>\n",
              "    <tr>\n",
              "      <th>1</th>\n",
              "      <td>Italy makes bid to host 2028 european cup or 2...</td>\n",
              "      <td>0</td>\n",
              "      <td>2021-07-16 06:53:27</td>\n",
              "    </tr>\n",
              "    <tr>\n",
              "      <th>2</th>\n",
              "      <td>RT @europeangreens: Feeling betrayed by your f...</td>\n",
              "      <td>0</td>\n",
              "      <td>2021-07-15 20:31:16</td>\n",
              "    </tr>\n",
              "    <tr>\n",
              "      <th>3</th>\n",
              "      <td>RT @jake_pugh: #europeansuperleague What busin...</td>\n",
              "      <td>0</td>\n",
              "      <td>2021-07-15 19:44:32</td>\n",
              "    </tr>\n",
              "    <tr>\n",
              "      <th>4</th>\n",
              "      <td>Israel is not Jewish, Israel is Zionist #movem...</td>\n",
              "      <td>1</td>\n",
              "      <td>2021-07-15 13:19:17</td>\n",
              "    </tr>\n",
              "    <tr>\n",
              "      <th>...</th>\n",
              "      <td>...</td>\n",
              "      <td>...</td>\n",
              "      <td>...</td>\n",
              "    </tr>\n",
              "    <tr>\n",
              "      <th>95</th>\n",
              "      <td>The 5 days of the #europeansuperleague showed ...</td>\n",
              "      <td>4</td>\n",
              "      <td>2021-06-29 20:59:30</td>\n",
              "    </tr>\n",
              "    <tr>\n",
              "      <th>96</th>\n",
              "      <td>RT @tvukzone: Sky commission #EuropeanSuperLea...</td>\n",
              "      <td>0</td>\n",
              "      <td>2021-06-29 20:05:55</td>\n",
              "    </tr>\n",
              "    <tr>\n",
              "      <th>97</th>\n",
              "      <td>RT @tvukzone: Sky Documentaries commission #Eu...</td>\n",
              "      <td>0</td>\n",
              "      <td>2021-06-29 20:02:45</td>\n",
              "    </tr>\n",
              "    <tr>\n",
              "      <th>98</th>\n",
              "      <td>Sky commission #EuropeanSuperLeague documentar...</td>\n",
              "      <td>5</td>\n",
              "      <td>2021-06-29 20:00:01</td>\n",
              "    </tr>\n",
              "    <tr>\n",
              "      <th>99</th>\n",
              "      <td>Check out my Gig on Fiverr: do excel data entr...</td>\n",
              "      <td>0</td>\n",
              "      <td>2021-06-29 18:59:37</td>\n",
              "    </tr>\n",
              "  </tbody>\n",
              "</table>\n",
              "<p>100 rows × 3 columns</p>\n",
              "</div>"
            ]
          },
          "metadata": {},
          "execution_count": 15
        }
      ],
      "metadata": {}
    },
    {
      "cell_type": "code",
      "execution_count": 17,
      "source": [
        "test = pd.concat([data,to_add])"
      ],
      "outputs": [],
      "metadata": {}
    },
    {
      "cell_type": "code",
      "execution_count": 20,
      "source": [
        "test"
      ],
      "outputs": [
        {
          "output_type": "execute_result",
          "data": {
            "text/plain": [
              "                                                tweet  likes  \\\n",
              "0   RT @adamblaizelives: @Ap3Journalism @TheUnited...      0   \n",
              "1   A special thank you to @adamblaizelives, @domi...      5   \n",
              "2   @Ap3Journalism @TheUnitedWay99 @ManUnitedZone_...      2   \n",
              "3   RT @org_scp: What a difference three months ma...      0   \n",
              "4   RT @org_scp: What a difference three months ma...      0   \n",
              "..                                                ...    ...   \n",
              "95  The 5 days of the #europeansuperleague showed ...      4   \n",
              "96  RT @tvukzone: Sky commission #EuropeanSuperLea...      0   \n",
              "97  RT @tvukzone: Sky Documentaries commission #Eu...      0   \n",
              "98  Sky commission #EuropeanSuperLeague documentar...      5   \n",
              "99  Check out my Gig on Fiverr: do excel data entr...      0   \n",
              "\n",
              "            date_posted  \n",
              "0   2021-07-26 16:37:07  \n",
              "1   2021-07-26 16:31:25  \n",
              "2   2021-07-26 09:05:21  \n",
              "3   2021-07-25 22:04:29  \n",
              "4   2021-07-25 19:20:56  \n",
              "..                  ...  \n",
              "95  2021-06-29 20:59:30  \n",
              "96  2021-06-29 20:05:55  \n",
              "97  2021-06-29 20:02:45  \n",
              "98  2021-06-29 20:00:01  \n",
              "99  2021-06-29 18:59:37  \n",
              "\n",
              "[200 rows x 3 columns]"
            ],
            "text/html": [
              "<div>\n",
              "<style scoped>\n",
              "    .dataframe tbody tr th:only-of-type {\n",
              "        vertical-align: middle;\n",
              "    }\n",
              "\n",
              "    .dataframe tbody tr th {\n",
              "        vertical-align: top;\n",
              "    }\n",
              "\n",
              "    .dataframe thead th {\n",
              "        text-align: right;\n",
              "    }\n",
              "</style>\n",
              "<table border=\"1\" class=\"dataframe\">\n",
              "  <thead>\n",
              "    <tr style=\"text-align: right;\">\n",
              "      <th></th>\n",
              "      <th>tweet</th>\n",
              "      <th>likes</th>\n",
              "      <th>date_posted</th>\n",
              "    </tr>\n",
              "  </thead>\n",
              "  <tbody>\n",
              "    <tr>\n",
              "      <th>0</th>\n",
              "      <td>RT @adamblaizelives: @Ap3Journalism @TheUnited...</td>\n",
              "      <td>0</td>\n",
              "      <td>2021-07-26 16:37:07</td>\n",
              "    </tr>\n",
              "    <tr>\n",
              "      <th>1</th>\n",
              "      <td>A special thank you to @adamblaizelives, @domi...</td>\n",
              "      <td>5</td>\n",
              "      <td>2021-07-26 16:31:25</td>\n",
              "    </tr>\n",
              "    <tr>\n",
              "      <th>2</th>\n",
              "      <td>@Ap3Journalism @TheUnitedWay99 @ManUnitedZone_...</td>\n",
              "      <td>2</td>\n",
              "      <td>2021-07-26 09:05:21</td>\n",
              "    </tr>\n",
              "    <tr>\n",
              "      <th>3</th>\n",
              "      <td>RT @org_scp: What a difference three months ma...</td>\n",
              "      <td>0</td>\n",
              "      <td>2021-07-25 22:04:29</td>\n",
              "    </tr>\n",
              "    <tr>\n",
              "      <th>4</th>\n",
              "      <td>RT @org_scp: What a difference three months ma...</td>\n",
              "      <td>0</td>\n",
              "      <td>2021-07-25 19:20:56</td>\n",
              "    </tr>\n",
              "    <tr>\n",
              "      <th>...</th>\n",
              "      <td>...</td>\n",
              "      <td>...</td>\n",
              "      <td>...</td>\n",
              "    </tr>\n",
              "    <tr>\n",
              "      <th>95</th>\n",
              "      <td>The 5 days of the #europeansuperleague showed ...</td>\n",
              "      <td>4</td>\n",
              "      <td>2021-06-29 20:59:30</td>\n",
              "    </tr>\n",
              "    <tr>\n",
              "      <th>96</th>\n",
              "      <td>RT @tvukzone: Sky commission #EuropeanSuperLea...</td>\n",
              "      <td>0</td>\n",
              "      <td>2021-06-29 20:05:55</td>\n",
              "    </tr>\n",
              "    <tr>\n",
              "      <th>97</th>\n",
              "      <td>RT @tvukzone: Sky Documentaries commission #Eu...</td>\n",
              "      <td>0</td>\n",
              "      <td>2021-06-29 20:02:45</td>\n",
              "    </tr>\n",
              "    <tr>\n",
              "      <th>98</th>\n",
              "      <td>Sky commission #EuropeanSuperLeague documentar...</td>\n",
              "      <td>5</td>\n",
              "      <td>2021-06-29 20:00:01</td>\n",
              "    </tr>\n",
              "    <tr>\n",
              "      <th>99</th>\n",
              "      <td>Check out my Gig on Fiverr: do excel data entr...</td>\n",
              "      <td>0</td>\n",
              "      <td>2021-06-29 18:59:37</td>\n",
              "    </tr>\n",
              "  </tbody>\n",
              "</table>\n",
              "<p>200 rows × 3 columns</p>\n",
              "</div>"
            ]
          },
          "metadata": {},
          "execution_count": 20
        }
      ],
      "metadata": {}
    },
    {
      "cell_type": "code",
      "execution_count": 21,
      "source": [
        "t3 = api.search_30_day(environment_name='nlpanalysis',query ='#EuropeanSuperLeague lang:en', maxResults = 100, toDate = 202106291859)"
      ],
      "outputs": [],
      "metadata": {}
    },
    {
      "cell_type": "code",
      "execution_count": 32,
      "source": [
        "len(t3)"
      ],
      "outputs": [
        {
          "output_type": "execute_result",
          "data": {
            "text/plain": [
              "19"
            ]
          },
          "metadata": {},
          "execution_count": 32
        }
      ],
      "metadata": {}
    },
    {
      "cell_type": "code",
      "execution_count": 35,
      "source": [
        "text = []\r\n",
        "likes3 = []\r\n",
        "dates3 = []\r\n",
        "for i in t3:\r\n",
        "    text3.append(i.text)\r\n",
        "    likes3.append(i.favorite_count)\r\n",
        "    dates3.append(i.created_at)"
      ],
      "outputs": [],
      "metadata": {}
    },
    {
      "cell_type": "code",
      "execution_count": 37,
      "source": [
        "to_add2 = pd.DataFrame({'tweet':text3,'likes':likes3,'date_posted':dates3})"
      ],
      "outputs": [],
      "metadata": {}
    },
    {
      "cell_type": "code",
      "execution_count": 38,
      "source": [
        "to_add2"
      ],
      "outputs": [
        {
          "output_type": "execute_result",
          "data": {
            "text/plain": [
              "                                                tweet  likes  \\\n",
              "0   Check out my Gig on Fiverr: do data entry, web...      2   \n",
              "1   RT @tvukzone: Sky Documentaries commission #Eu...      0   \n",
              "2   Sky Documentaries commission #EuropeanSuperLea...      1   \n",
              "3   RT @tvukzone: NEW: Sky Documentaries commissio...      0   \n",
              "4   NEW: Sky Documentaries commission #EuropeanSup...      0   \n",
              "5   #LiverpoolFC #EuropeanSuperLeague #FSG Liverpo...      0   \n",
              "6   #EuropeanSuperLeague’s Demise To Be Subject Of...      0   \n",
              "7   Sky announces new documentary on the rise and ...      2   \n",
              "8   Sky Documentaries to air European Super League...      3   \n",
              "9   As England aims to progress further in #Euro20...      3   \n",
              "10  #EuropeanSuperLeague Documentary Heads to Sky ...      0   \n",
              "11  Still raw and bewildering for most of us - but...      0   \n",
              "12  RT @davez2010: Deduct points, relegate, ban al...      0   \n",
              "13  It's nearly July and some people still have th...      2   \n",
              "14  European Super League: What history can teach ...      0   \n",
              "15  RT @sofiartmedia: EURO 2020-2021 UEFA European...      0   \n",
              "16  RT @sofiartmedia: EURO 2020-2021 UEFA European...      0   \n",
              "17  \"We are not excluding anyone, but everyone can...      0   \n",
              "18  RT @BasherNafiz: Jesse Lingard at the ballon d...      0   \n",
              "\n",
              "           date_posted  \n",
              "0  2021-06-29 18:58:12  \n",
              "1  2021-06-29 16:34:02  \n",
              "2  2021-06-29 16:30:00  \n",
              "3  2021-06-29 13:07:09  \n",
              "4  2021-06-29 13:00:01  \n",
              "5  2021-06-29 12:00:13  \n",
              "6  2021-06-29 10:53:09  \n",
              "7  2021-06-29 10:40:02  \n",
              "8  2021-06-29 10:36:06  \n",
              "9  2021-06-29 10:33:26  \n",
              "10 2021-06-29 10:03:07  \n",
              "11 2021-06-29 08:43:30  \n",
              "12 2021-06-28 19:54:32  \n",
              "13 2021-06-28 15:42:33  \n",
              "14 2021-06-27 08:30:09  \n",
              "15 2021-06-26 09:10:20  \n",
              "16 2021-06-26 09:10:16  \n",
              "17 2021-06-26 06:47:06  \n",
              "18 2021-06-26 04:43:32  "
            ],
            "text/html": [
              "<div>\n",
              "<style scoped>\n",
              "    .dataframe tbody tr th:only-of-type {\n",
              "        vertical-align: middle;\n",
              "    }\n",
              "\n",
              "    .dataframe tbody tr th {\n",
              "        vertical-align: top;\n",
              "    }\n",
              "\n",
              "    .dataframe thead th {\n",
              "        text-align: right;\n",
              "    }\n",
              "</style>\n",
              "<table border=\"1\" class=\"dataframe\">\n",
              "  <thead>\n",
              "    <tr style=\"text-align: right;\">\n",
              "      <th></th>\n",
              "      <th>tweet</th>\n",
              "      <th>likes</th>\n",
              "      <th>date_posted</th>\n",
              "    </tr>\n",
              "  </thead>\n",
              "  <tbody>\n",
              "    <tr>\n",
              "      <th>0</th>\n",
              "      <td>Check out my Gig on Fiverr: do data entry, web...</td>\n",
              "      <td>2</td>\n",
              "      <td>2021-06-29 18:58:12</td>\n",
              "    </tr>\n",
              "    <tr>\n",
              "      <th>1</th>\n",
              "      <td>RT @tvukzone: Sky Documentaries commission #Eu...</td>\n",
              "      <td>0</td>\n",
              "      <td>2021-06-29 16:34:02</td>\n",
              "    </tr>\n",
              "    <tr>\n",
              "      <th>2</th>\n",
              "      <td>Sky Documentaries commission #EuropeanSuperLea...</td>\n",
              "      <td>1</td>\n",
              "      <td>2021-06-29 16:30:00</td>\n",
              "    </tr>\n",
              "    <tr>\n",
              "      <th>3</th>\n",
              "      <td>RT @tvukzone: NEW: Sky Documentaries commissio...</td>\n",
              "      <td>0</td>\n",
              "      <td>2021-06-29 13:07:09</td>\n",
              "    </tr>\n",
              "    <tr>\n",
              "      <th>4</th>\n",
              "      <td>NEW: Sky Documentaries commission #EuropeanSup...</td>\n",
              "      <td>0</td>\n",
              "      <td>2021-06-29 13:00:01</td>\n",
              "    </tr>\n",
              "    <tr>\n",
              "      <th>5</th>\n",
              "      <td>#LiverpoolFC #EuropeanSuperLeague #FSG Liverpo...</td>\n",
              "      <td>0</td>\n",
              "      <td>2021-06-29 12:00:13</td>\n",
              "    </tr>\n",
              "    <tr>\n",
              "      <th>6</th>\n",
              "      <td>#EuropeanSuperLeague’s Demise To Be Subject Of...</td>\n",
              "      <td>0</td>\n",
              "      <td>2021-06-29 10:53:09</td>\n",
              "    </tr>\n",
              "    <tr>\n",
              "      <th>7</th>\n",
              "      <td>Sky announces new documentary on the rise and ...</td>\n",
              "      <td>2</td>\n",
              "      <td>2021-06-29 10:40:02</td>\n",
              "    </tr>\n",
              "    <tr>\n",
              "      <th>8</th>\n",
              "      <td>Sky Documentaries to air European Super League...</td>\n",
              "      <td>3</td>\n",
              "      <td>2021-06-29 10:36:06</td>\n",
              "    </tr>\n",
              "    <tr>\n",
              "      <th>9</th>\n",
              "      <td>As England aims to progress further in #Euro20...</td>\n",
              "      <td>3</td>\n",
              "      <td>2021-06-29 10:33:26</td>\n",
              "    </tr>\n",
              "    <tr>\n",
              "      <th>10</th>\n",
              "      <td>#EuropeanSuperLeague Documentary Heads to Sky ...</td>\n",
              "      <td>0</td>\n",
              "      <td>2021-06-29 10:03:07</td>\n",
              "    </tr>\n",
              "    <tr>\n",
              "      <th>11</th>\n",
              "      <td>Still raw and bewildering for most of us - but...</td>\n",
              "      <td>0</td>\n",
              "      <td>2021-06-29 08:43:30</td>\n",
              "    </tr>\n",
              "    <tr>\n",
              "      <th>12</th>\n",
              "      <td>RT @davez2010: Deduct points, relegate, ban al...</td>\n",
              "      <td>0</td>\n",
              "      <td>2021-06-28 19:54:32</td>\n",
              "    </tr>\n",
              "    <tr>\n",
              "      <th>13</th>\n",
              "      <td>It's nearly July and some people still have th...</td>\n",
              "      <td>2</td>\n",
              "      <td>2021-06-28 15:42:33</td>\n",
              "    </tr>\n",
              "    <tr>\n",
              "      <th>14</th>\n",
              "      <td>European Super League: What history can teach ...</td>\n",
              "      <td>0</td>\n",
              "      <td>2021-06-27 08:30:09</td>\n",
              "    </tr>\n",
              "    <tr>\n",
              "      <th>15</th>\n",
              "      <td>RT @sofiartmedia: EURO 2020-2021 UEFA European...</td>\n",
              "      <td>0</td>\n",
              "      <td>2021-06-26 09:10:20</td>\n",
              "    </tr>\n",
              "    <tr>\n",
              "      <th>16</th>\n",
              "      <td>RT @sofiartmedia: EURO 2020-2021 UEFA European...</td>\n",
              "      <td>0</td>\n",
              "      <td>2021-06-26 09:10:16</td>\n",
              "    </tr>\n",
              "    <tr>\n",
              "      <th>17</th>\n",
              "      <td>\"We are not excluding anyone, but everyone can...</td>\n",
              "      <td>0</td>\n",
              "      <td>2021-06-26 06:47:06</td>\n",
              "    </tr>\n",
              "    <tr>\n",
              "      <th>18</th>\n",
              "      <td>RT @BasherNafiz: Jesse Lingard at the ballon d...</td>\n",
              "      <td>0</td>\n",
              "      <td>2021-06-26 04:43:32</td>\n",
              "    </tr>\n",
              "  </tbody>\n",
              "</table>\n",
              "</div>"
            ]
          },
          "metadata": {},
          "execution_count": 38
        }
      ],
      "metadata": {}
    },
    {
      "cell_type": "code",
      "execution_count": 39,
      "source": [
        "final = pd.concat([test,to_add2])"
      ],
      "outputs": [],
      "metadata": {}
    },
    {
      "cell_type": "code",
      "execution_count": 40,
      "source": [
        "final"
      ],
      "outputs": [
        {
          "output_type": "execute_result",
          "data": {
            "text/plain": [
              "                                                tweet  likes  \\\n",
              "0   RT @adamblaizelives: @Ap3Journalism @TheUnited...      0   \n",
              "1   A special thank you to @adamblaizelives, @domi...      5   \n",
              "2   @Ap3Journalism @TheUnitedWay99 @ManUnitedZone_...      2   \n",
              "3   RT @org_scp: What a difference three months ma...      0   \n",
              "4   RT @org_scp: What a difference three months ma...      0   \n",
              "..                                                ...    ...   \n",
              "14  European Super League: What history can teach ...      0   \n",
              "15  RT @sofiartmedia: EURO 2020-2021 UEFA European...      0   \n",
              "16  RT @sofiartmedia: EURO 2020-2021 UEFA European...      0   \n",
              "17  \"We are not excluding anyone, but everyone can...      0   \n",
              "18  RT @BasherNafiz: Jesse Lingard at the ballon d...      0   \n",
              "\n",
              "            date_posted  \n",
              "0   2021-07-26 16:37:07  \n",
              "1   2021-07-26 16:31:25  \n",
              "2   2021-07-26 09:05:21  \n",
              "3   2021-07-25 22:04:29  \n",
              "4   2021-07-25 19:20:56  \n",
              "..                  ...  \n",
              "14  2021-06-27 08:30:09  \n",
              "15  2021-06-26 09:10:20  \n",
              "16  2021-06-26 09:10:16  \n",
              "17  2021-06-26 06:47:06  \n",
              "18  2021-06-26 04:43:32  \n",
              "\n",
              "[219 rows x 3 columns]"
            ],
            "text/html": [
              "<div>\n",
              "<style scoped>\n",
              "    .dataframe tbody tr th:only-of-type {\n",
              "        vertical-align: middle;\n",
              "    }\n",
              "\n",
              "    .dataframe tbody tr th {\n",
              "        vertical-align: top;\n",
              "    }\n",
              "\n",
              "    .dataframe thead th {\n",
              "        text-align: right;\n",
              "    }\n",
              "</style>\n",
              "<table border=\"1\" class=\"dataframe\">\n",
              "  <thead>\n",
              "    <tr style=\"text-align: right;\">\n",
              "      <th></th>\n",
              "      <th>tweet</th>\n",
              "      <th>likes</th>\n",
              "      <th>date_posted</th>\n",
              "    </tr>\n",
              "  </thead>\n",
              "  <tbody>\n",
              "    <tr>\n",
              "      <th>0</th>\n",
              "      <td>RT @adamblaizelives: @Ap3Journalism @TheUnited...</td>\n",
              "      <td>0</td>\n",
              "      <td>2021-07-26 16:37:07</td>\n",
              "    </tr>\n",
              "    <tr>\n",
              "      <th>1</th>\n",
              "      <td>A special thank you to @adamblaizelives, @domi...</td>\n",
              "      <td>5</td>\n",
              "      <td>2021-07-26 16:31:25</td>\n",
              "    </tr>\n",
              "    <tr>\n",
              "      <th>2</th>\n",
              "      <td>@Ap3Journalism @TheUnitedWay99 @ManUnitedZone_...</td>\n",
              "      <td>2</td>\n",
              "      <td>2021-07-26 09:05:21</td>\n",
              "    </tr>\n",
              "    <tr>\n",
              "      <th>3</th>\n",
              "      <td>RT @org_scp: What a difference three months ma...</td>\n",
              "      <td>0</td>\n",
              "      <td>2021-07-25 22:04:29</td>\n",
              "    </tr>\n",
              "    <tr>\n",
              "      <th>4</th>\n",
              "      <td>RT @org_scp: What a difference three months ma...</td>\n",
              "      <td>0</td>\n",
              "      <td>2021-07-25 19:20:56</td>\n",
              "    </tr>\n",
              "    <tr>\n",
              "      <th>...</th>\n",
              "      <td>...</td>\n",
              "      <td>...</td>\n",
              "      <td>...</td>\n",
              "    </tr>\n",
              "    <tr>\n",
              "      <th>14</th>\n",
              "      <td>European Super League: What history can teach ...</td>\n",
              "      <td>0</td>\n",
              "      <td>2021-06-27 08:30:09</td>\n",
              "    </tr>\n",
              "    <tr>\n",
              "      <th>15</th>\n",
              "      <td>RT @sofiartmedia: EURO 2020-2021 UEFA European...</td>\n",
              "      <td>0</td>\n",
              "      <td>2021-06-26 09:10:20</td>\n",
              "    </tr>\n",
              "    <tr>\n",
              "      <th>16</th>\n",
              "      <td>RT @sofiartmedia: EURO 2020-2021 UEFA European...</td>\n",
              "      <td>0</td>\n",
              "      <td>2021-06-26 09:10:16</td>\n",
              "    </tr>\n",
              "    <tr>\n",
              "      <th>17</th>\n",
              "      <td>\"We are not excluding anyone, but everyone can...</td>\n",
              "      <td>0</td>\n",
              "      <td>2021-06-26 06:47:06</td>\n",
              "    </tr>\n",
              "    <tr>\n",
              "      <th>18</th>\n",
              "      <td>RT @BasherNafiz: Jesse Lingard at the ballon d...</td>\n",
              "      <td>0</td>\n",
              "      <td>2021-06-26 04:43:32</td>\n",
              "    </tr>\n",
              "  </tbody>\n",
              "</table>\n",
              "<p>219 rows × 3 columns</p>\n",
              "</div>"
            ]
          },
          "metadata": {},
          "execution_count": 40
        }
      ],
      "metadata": {}
    },
    {
      "cell_type": "code",
      "execution_count": 41,
      "source": [
        "t4 = api.search_30_day(environment_name='nlpanalysis',query ='#EuropeanSuperLeague lang:en', maxResults = 100, fromDate = 202107261637)"
      ],
      "outputs": [],
      "metadata": {}
    },
    {
      "cell_type": "code",
      "execution_count": 42,
      "source": [
        "len(t4)"
      ],
      "outputs": [
        {
          "output_type": "execute_result",
          "data": {
            "text/plain": [
              "73"
            ]
          },
          "metadata": {},
          "execution_count": 42
        }
      ],
      "metadata": {}
    },
    {
      "cell_type": "code",
      "execution_count": 44,
      "source": [
        "text4 = []\r\n",
        "likes4 = []\r\n",
        "dates4 = []\r\n",
        "for i in t4:\r\n",
        "    text4.append(i.text)\r\n",
        "    likes4.append(i.favorite_count)\r\n",
        "    dates4.append(i.created_at)\r\n",
        "to_add3 = pd.DataFrame({'tweet':text4,'likes':likes4,'date_posted':dates4})"
      ],
      "outputs": [],
      "metadata": {}
    },
    {
      "cell_type": "code",
      "execution_count": 46,
      "source": [
        "final_data = pd.concat([to_add3,final])"
      ],
      "outputs": [],
      "metadata": {}
    },
    {
      "cell_type": "code",
      "execution_count": 48,
      "source": [
        "final_data = final_data.reset_index()"
      ],
      "outputs": [],
      "metadata": {}
    },
    {
      "cell_type": "code",
      "execution_count": 50,
      "source": [
        "final_data.drop('index',axis=1,inplace=True)"
      ],
      "outputs": [],
      "metadata": {}
    },
    {
      "cell_type": "code",
      "execution_count": 52,
      "source": [
        "final_data.to_csv('complete_data.csv')"
      ],
      "outputs": [],
      "metadata": {}
    },
    {
      "cell_type": "code",
      "execution_count": null,
      "source": [],
      "outputs": [],
      "metadata": {}
    }
  ]
}